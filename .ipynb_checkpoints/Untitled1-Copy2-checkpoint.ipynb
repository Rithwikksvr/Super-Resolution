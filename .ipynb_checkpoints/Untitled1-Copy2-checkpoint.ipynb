{
 "cells": [
  {
   "cell_type": "code",
   "execution_count": 65,
   "metadata": {
    "collapsed": false
   },
   "outputs": [],
   "source": [
    "import numpy as np\n",
    "import cv2\n",
    "import numpy\n",
    "import math\n",
    "import os\n",
    "import sklearn.linear_model\n",
    "import sklearn.datasets\n",
    "import matplotlib.pyplot as plt\n",
    "import autograd.numpy as np\n",
    "from autograd import grad\n",
    "import time\n",
    "import threading\n",
    "#from Data_File import Data\n",
    "import Data_File\n",
    "plt.close('all')"
   ]
  },
  {
   "cell_type": "code",
   "execution_count": 72,
   "metadata": {
    "collapsed": false
   },
   "outputs": [],
   "source": [
    "train_x,train_y = Data_File.Data('faces')\n",
    "test_x,test_y = Data_File.Data('test')\n",
    "\n",
    "(h,w) = train_y[0].shape\n",
    "\n",
    "A = np.random.random((h,h//2))/10\n",
    "B = np.random.random((w//2,w))/10\n",
    "\n"
   ]
  },
  {
   "cell_type": "code",
   "execution_count": 111,
   "metadata": {
    "collapsed": false
   },
   "outputs": [],
   "source": [
    "def psnr(img1, img2):\n",
    "    mse = numpy.mean( (img1 - img2) ** 2 )\n",
    "    if mse == 0:\n",
    "        return 100\n",
    "    PIXEL_MAX = 255.0\n",
    "    return 20 * math.log10(PIXEL_MAX / math.sqrt(mse))\n",
    "\n",
    "def mse(img1,img2):\n",
    "    return np.mean(np.square(img1 - img2))\n",
    "\n",
    "def cost(A,B,X,y):\n",
    "    total_error = 0\n",
    "    ans = np.random.random((len(X),1))\n",
    "    index=0\n",
    "    \n",
    "    for i in range(len(X)):\n",
    "        \n",
    "        pred = np.matmul(np.matmul(A,X[i]),B)\n",
    "        total_error = total_error + mse(pred,y[i])\n",
    "        index+=1\n",
    "        \n",
    "        total_error+=mse(pred ,y)\n",
    "        \n",
    "    return total_error/len(X)\n",
    "\n",
    "\n",
    "def pred_and_cost(img,y,results,index):\n",
    "    x1 = np.matmul(A,img)\n",
    "    x2 = np.matmul(x1,B)\n",
    "    ans[index] = mse(x2,y)\n",
    "    \n",
    "def pred(img,results):\n",
    "    \n",
    "    ans[index,:,:] = x2\n",
    "    return x2"
   ]
  },
  {
   "cell_type": "code",
   "execution_count": 112,
   "metadata": {
    "collapsed": false
   },
   "outputs": [
    {
     "data": {
      "text/plain": [
       "array([[ 0.03921569,  0.05490196,  0.01568627, ...,  0.43137255,\n",
       "         0.42745098,  0.42352941],\n",
       "       [ 0.03921569,  0.03529412,  0.01568627, ...,  0.43137255,\n",
       "         0.41176471,  0.42352941],\n",
       "       [ 0.04313725,  0.04313725,  0.01960784, ...,  0.40784314,\n",
       "         0.41176471,  0.40784314],\n",
       "       ..., \n",
       "       [ 0.36862745,  0.51372549,  0.02745098, ...,  0.41176471,\n",
       "         0.38823529,  0.40784314],\n",
       "       [ 0.11764706,  0.21176471,  0.02745098, ...,  0.40392157,\n",
       "         0.39607843,  0.40392157],\n",
       "       [ 0.40392157,  0.0745098 ,  0.02352941, ...,  0.4       ,\n",
       "         0.39215686,  0.40784314]])"
      ]
     },
     "execution_count": 112,
     "metadata": {},
     "output_type": "execute_result"
    }
   ],
   "source": [
    "train_x[0]"
   ]
  },
  {
   "cell_type": "code",
   "execution_count": 113,
   "metadata": {
    "collapsed": true
   },
   "outputs": [],
   "source": [
    "trainer = grad(cost,argnum=[0,1])\n",
    "alpha = .001\n",
    "iterations = 10"
   ]
  },
  {
   "cell_type": "code",
   "execution_count": null,
   "metadata": {
    "collapsed": false
   },
   "outputs": [
    {
     "name": "stdout",
     "output_type": "stream",
     "text": [
      "[[ 0.90641567  0.88752549  0.88050814 ...,  0.93570307  0.93385406\n",
      "   0.93275792]\n",
      " [ 0.82621767  0.80904538  0.80296028 ...,  0.85241503  0.85060601\n",
      "   0.84945912]\n",
      " [ 0.74654236  0.73094071  0.72551235 ...,  0.77251821  0.77101542\n",
      "   0.77010043]\n",
      " ..., \n",
      " [ 0.78159027  0.76523097  0.75922544 ...,  0.80608196  0.80438278\n",
      "   0.80332723]\n",
      " [ 0.76887084  0.75286232  0.74709559 ...,  0.78840517  0.7865819\n",
      "   0.78544792]\n",
      " [ 0.77606419  0.75998488  0.75414987 ...,  0.79404835  0.79213214\n",
      "   0.79088865]]\n",
      "[[ 0.87971032  0.86137916  0.85456543 ...,  0.90807101  0.90627927\n",
      "   0.90521904]\n",
      " [ 0.80183766  0.78517446  0.77927116 ...,  0.82719608  0.825441\n",
      "   0.82432888]\n",
      " [ 0.72447647  0.70933611  0.70407141 ...,  0.74966243  0.74820664\n",
      "   0.74732146]\n",
      " ..., \n",
      " [ 0.75853086  0.74265478  0.73682401 ...,  0.78220338  0.78055366\n",
      "   0.77952952]\n",
      " [ 0.74621521  0.73068029  0.72508344 ...,  0.7650061   0.76323344\n",
      "   0.76213149]\n",
      " [ 0.75320213  0.73759963  0.73193621 ...,  0.77045911  0.76859497\n",
      "   0.76738504]]\n",
      "[[ 0.854341    0.83654083  0.82992058 ...,  0.88182377  0.88008634\n",
      "   0.87906014]\n",
      " [ 0.77867779  0.76249813  0.75676757 ...,  0.80324151  0.8015376\n",
      "   0.80045844]\n",
      " [ 0.70351531  0.6888131   0.68370388 ...,  0.72795281  0.72654159\n",
      "   0.72568465]\n",
      " ..., \n",
      " [ 0.73662585  0.72120875  0.71554403 ...,  0.7595224   0.75791961\n",
      "   0.75692521]\n",
      " [ 0.72469363  0.70960855  0.7041731  ...,  0.74278079  0.74105617\n",
      "   0.73998457]\n",
      " [ 0.73148437  0.71633475  0.71083439 ...,  0.74805323  0.74623851\n",
      "   0.7450604 ]]\n",
      "[[ 0.83021313  0.81291791  0.80648173 ...,  0.85686321  0.85517737\n",
      "   0.85418343]\n",
      " [ 0.75665167  0.74093183  0.73536557 ...,  0.7804617   0.77880641\n",
      "   0.77775852]\n",
      " [ 0.68358067  0.66929511  0.66433378 ...,  0.7073081   0.7059392\n",
      "   0.70510904]\n",
      " ..., \n",
      " [ 0.71579351  0.70081286  0.69530612 ...,  0.73795413  0.73639592\n",
      "   0.73542974]\n",
      " [ 0.70422581  0.68956849  0.68428658 ...,  0.72164602  0.71996704\n",
      "   0.71892425]\n",
      " [ 0.71082992  0.69611094  0.69076568 ...,  0.72674682  0.72497906\n",
      "   0.72383116]]\n"
     ]
    }
   ],
   "source": [
    "for i in range(iterations):\n",
    "    grad_A,grad_B = trainer(A,B,train_x,train_y)\n",
    "    print (grad_A)\n",
    "    A -=alpha*grad_A\n",
    "    B -=alpha*grad_B\n",
    "    \n",
    "        "
   ]
  },
  {
   "cell_type": "code",
   "execution_count": 47,
   "metadata": {
    "collapsed": false
   },
   "outputs": [
    {
     "ename": "NameError",
     "evalue": "name 'ans' is not defined",
     "output_type": "error",
     "traceback": [
      "\u001b[0;31m---------------------------------------------------------------------------\u001b[0m",
      "\u001b[0;31mNameError\u001b[0m                                 Traceback (most recent call last)",
      "\u001b[0;32m<ipython-input-47-ab8d4a5f9299>\u001b[0m in \u001b[0;36m<module>\u001b[0;34m()\u001b[0m\n\u001b[0;32m----> 1\u001b[0;31m \u001b[0mans\u001b[0m\u001b[0;34m\u001b[0m\u001b[0m\n\u001b[0m",
      "\u001b[0;31mNameError\u001b[0m: name 'ans' is not defined"
     ]
    }
   ],
   "source": []
  },
  {
   "cell_type": "code",
   "execution_count": 97,
   "metadata": {
    "collapsed": false
   },
   "outputs": [
    {
     "data": {
      "text/plain": [
       "99.799971530766385"
      ]
     },
     "execution_count": 97,
     "metadata": {},
     "output_type": "execute_result"
    }
   ],
   "source": [
    "org_cost(train_x,train_y)"
   ]
  },
  {
   "cell_type": "code",
   "execution_count": 96,
   "metadata": {
    "collapsed": false
   },
   "outputs": [
    {
     "data": {
      "text/plain": [
       "99.799971530766399"
      ]
     },
     "execution_count": 96,
     "metadata": {},
     "output_type": "execute_result"
    }
   ],
   "source": [
    "cost(A,B,train_x,train_y)"
   ]
  },
  {
   "cell_type": "code",
   "execution_count": null,
   "metadata": {
    "collapsed": true
   },
   "outputs": [],
   "source": []
  }
 ],
 "metadata": {
  "kernelspec": {
   "display_name": "Python [conda env:anaconda]",
   "language": "python",
   "name": "conda-env-anaconda-py"
  },
  "language_info": {
   "codemirror_mode": {
    "name": "ipython",
    "version": 2
   },
   "file_extension": ".py",
   "mimetype": "text/x-python",
   "name": "python",
   "nbconvert_exporter": "python",
   "pygments_lexer": "ipython2",
   "version": "2.7.12"
  }
 },
 "nbformat": 4,
 "nbformat_minor": 1
}
