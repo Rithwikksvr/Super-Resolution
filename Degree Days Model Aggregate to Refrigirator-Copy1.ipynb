{
 "cells": [
  {
   "cell_type": "code",
   "execution_count": 1,
   "metadata": {
    "collapsed": false
   },
   "outputs": [
    {
     "name": "stderr",
     "output_type": "stream",
     "text": [
      "/home/rithwik/anaconda/lib/python2.7/site-packages/h5py/__init__.py:34: FutureWarning: Conversion of the second argument of issubdtype from `float` to `np.floating` is deprecated. In future, it will be treated as `np.float64 == np.dtype(float).type`.\n",
      "  from ._conv import register_converters as _register_converters\n",
      "Using TensorFlow backend.\n"
     ]
    }
   ],
   "source": [
    "import pandas  as pd\n",
    "import numpy as np\n",
    "import matplotlib.pyplot as plt\n",
    "import os\n",
    "import random\n",
    "np.random.seed(30)\n",
    "from sklearn.linear_model import LinearRegression\n",
    "from sklearn.neighbors import KNeighborsRegressor\n",
    "from collections import Counter\n",
    "import keras\n",
    "from keras.layers import Conv2D,Dense,Flatten\n",
    "import keras.backend as K\n",
    "from keras.callbacks import ModelCheckpoint\n",
    "from keras.layers import Input\n",
    "from keras.models import Model\n",
    "from sklearn.model_selection import KFold\n"
   ]
  },
  {
   "cell_type": "code",
   "execution_count": 2,
   "metadata": {
    "collapsed": true
   },
   "outputs": [],
   "source": [
    "days = pd.HDFStore('../Combined Datasets/daily.h5','r')\n",
    "hours = pd.HDFStore('../Combined Datasets/hourly.h5','r')"
   ]
  },
  {
   "cell_type": "code",
   "execution_count": 3,
   "metadata": {
    "collapsed": true
   },
   "outputs": [],
   "source": [
    "train_prop = .65\n",
    "v_prop = .2\n",
    "test_prop = .15\n",
    "keys = days.keys()\n",
    "\n",
    "const = 1000.0"
   ]
  },
  {
   "cell_type": "code",
   "execution_count": 4,
   "metadata": {
    "collapsed": false
   },
   "outputs": [],
   "source": [
    "def return_data(keys,n_months):\n",
    "    \n",
    "\n",
    "    appliance1 = 'use'\n",
    "    appliance2 = 'refrigerator1'\n",
    "    \n",
    "    \n",
    "\n",
    "    \n",
    "    X = np.array([days[i][appliance1].values for i in keys if (appliance1 in days[i].columns and appliance2 in days[i].columns )])[:,:28*n_months]/const\n",
    "    y = np.array([hours[i][appliance2].values for i in keys if (appliance1 in hours[i].columns and appliance2 in hours[i].columns )])[:,:(28*24*n_months)]/const\n",
    "    \n",
    "    X = X.reshape((len(X)*n_months,4,7))\n",
    "    X = np.expand_dims(X,axis=3)    \n",
    "    \n",
    "    \n",
    "    \n",
    "    y = y.reshape((len(y)*n_months,28*24))\n",
    "    \n",
    "    \n",
    "    \n",
    "    return X,y\n",
    "\n",
    "\n",
    "def mae(truth,pred):\n",
    "    return np.mean(const*np.abs((truth-pred)))\n",
    "\n",
    "    \n",
    "    \n",
    "    "
   ]
  },
  {
   "cell_type": "code",
   "execution_count": 5,
   "metadata": {
    "collapsed": true
   },
   "outputs": [],
   "source": [
    "def network():\n",
    "    \n",
    "    input_layer = Input(shape=(4,7,1),name=\"Monthly_Matrix\")\n",
    "    input_layer_2 = Input(shape=(1,),name=\"Cooling_Degree_Day_Monthly\")\n",
    "    \n",
    "\n",
    "    op1 = Conv2D(10,kernel_size=(4,1), strides=(1,1),name=\"Filter_4X1\")(input_layer)\n",
    "    \n",
    "    op1 = Flatten()(op1)\n",
    "    \n",
    "    \n",
    "    \n",
    "    op2 = Conv2D(10,kernel_size=(1,7), strides=(1,1),name=\"Filter_1X7\")(input_layer)\n",
    "    \n",
    "    op2 = Flatten()(op2)\n",
    "    \n",
    "    \n",
    "    op3 = Conv2D(10,kernel_size=(1,2),strides=(1,1),name=\"Filter_1X2\")(input_layer)\n",
    "    \n",
    "    op3 = Flatten()(op3)\n",
    "    \n",
    "    op4 = Conv2D(10,kernel_size=(2,1),strides=(1,1),name=\"Filter_2X1\")(input_layer)\n",
    "    \n",
    "    op4 = Flatten()(op4)\n",
    "    \n",
    "    #op5 = Conv2D(20,kernel_size=(3,3),strides=(1,1),padding='same')(input_layer)\n",
    "    \n",
    "    #op5 = Conv2D(20,3,strides=(1,1),padding='same')(input_layer)\n",
    "    \n",
    "    #op5 = Flatten()(op5)\n",
    "    \n",
    "    #op5 =  keras.layers.Dropout(.2)(op5)\n",
    "    \n",
    "    #op5  = Dense(168*4)(op5)\n",
    "    \n",
    "    \n",
    "    \n",
    "    \n",
    "    \n",
    "    \n",
    "    \n",
    "    \n",
    "    \n",
    "    merge_layer = keras.layers.concatenate([op1, op2, op3,op4],name=\"Concatenation_1\")\n",
    "    \n",
    "\n",
    "    \n",
    "    merge_layer =  keras.layers.Dropout(.1)(merge_layer)\n",
    "    \n",
    "    \n",
    "    \n",
    "    merge_layer = keras.layers.concatenate(([merge_layer,input_layer_2]),name=\"Concatenation_2\")\n",
    "    \n",
    "    final_layer = Dense(168*4,name=\"Output_Dense\",activation='relu')(merge_layer)\n",
    "    \n",
    "    \n",
    "    #final_layer = keras.layers.LeakyReLU(alpha=0.01)(final_layer)\n",
    "    \n",
    "    #predictions = Dense(1, activation='sigmoid')(merge_layer)\n",
    "\n",
    "    \n",
    "    \n",
    "    \n",
    "    model = Model(inputs=[input_layer,input_layer_2], outputs=final_layer)\n",
    "\n",
    "    \n",
    "    return model\n",
    "    \n",
    "    "
   ]
  },
  {
   "cell_type": "code",
   "execution_count": 6,
   "metadata": {
    "collapsed": true
   },
   "outputs": [],
   "source": [
    "def empty_dir(dir_name):\n",
    "    for i in os.listdir(dir_name):\n",
    "        os.remove(dir_name+\"/\"+i)"
   ]
  },
  {
   "cell_type": "code",
   "execution_count": 7,
   "metadata": {
    "collapsed": false
   },
   "outputs": [],
   "source": [
    "def fit_model(train_x,train_y,test_x,test_y,v_x,v_y):\n",
    "    \n",
    "    model = network()\n",
    "    n_epochs = 3000\n",
    "    sgd = keras.optimizers.SGD(lr=0.01)\n",
    "    rmsprop  = keras.optimizers.RMSprop(lr=.001)\n",
    "    adagrad = keras.optimizers.adagrad(lr=.001)\n",
    "    model.compile(optimizer=rms, loss='mean_squared_error')\n",
    "    \n",
    "    dir_name = 'temp'\n",
    "    empty_dir(dir_name)\n",
    "    \n",
    "    print(\"Started Training!\")\n",
    "    checkpoint = ModelCheckpoint(dir_name+'/single-model-{epoch:04d}.h5', verbose=0, monitor='val_loss',save_best_only=True, mode='auto')  \n",
    "    model.fit([train_x,train_temp], train_y, epochs=n_epochs, validation_data=[[v_x,v_temp],v_y], callbacks=[checkpoint], verbose=0)\n",
    "\n",
    "    all_files = os.listdir(dir_name)\n",
    "    all_files.sort()\n",
    "    weights_file = all_files[-1]\n",
    "    \n",
    "    \n",
    "    model.load_weights(dir_name+\"/\"+weights_file)\n",
    "    \n",
    "    \n",
    "    pred_train = model.predict([train_x,train_temp])\n",
    "    pred_v = model.predict([v_x,v_temp])\n",
    "    pred_test = model.predict([test_x,test_temp])\n",
    "    \n",
    "    train_cost = mae(train_y,pred_train)\n",
    "    v_cost = mae(v_y,pred_v)\n",
    "    test_cost = mae(test_y,pred_test)\n",
    "    \n",
    "    return train_cost,v_cost,test_cost\n",
    "    \n",
    "    \n",
    "    \n",
    "    \n",
    "    \n",
    "    \n",
    "    "
   ]
  },
  {
   "cell_type": "code",
   "execution_count": 8,
   "metadata": {
    "collapsed": false
   },
   "outputs": [
    {
     "name": "stdout",
     "output_type": "stream",
     "text": [
      "Started Training!\n",
      "(68.7766, 58.401237, 58.551765)\n"
     ]
    }
   ],
   "source": [
    "n_experiments = 1\n",
    "results_arr = [] \n",
    "for exp in range(n_experiments):\n",
    "    \n",
    "    keys = days.keys()\n",
    "\n",
    "    np.random.seed(exp)\n",
    "    \n",
    "    np.random.shuffle(keys)\n",
    "    \n",
    "    train_homes = keys[:int(len(keys)*train_prop)]\n",
    "    test_homes = keys[int(len(keys)*train_prop):int(-len(keys)*v_prop)]\n",
    "    val_homes = keys[int(-len(keys)*v_prop):]\n",
    "    \n",
    "    train_x,train_y = return_data(train_homes,3)\n",
    "    \n",
    "    test_x,test_y = return_data(test_homes,3)\n",
    "    \n",
    "    v_x,v_y  = return_data(val_homes,3)\n",
    "    \n",
    "    \n",
    "    \n",
    "    vals = [16,18,21]\n",
    "    \n",
    "    \n",
    "    train_temp = np.array(vals*(len(train_x)/3))\n",
    "    \n",
    "    v_temp = np.array(vals*(len(v_x)/3))\n",
    "    \n",
    "    test_temp = np.array(vals*(len(test_x)/3))\n",
    "    \n",
    "    \n",
    "    \n",
    "    \n",
    "    results = fit_model(train_x,train_y,test_x,test_y,v_x,v_y)\n",
    "    \n",
    "    print (results)\n",
    "    \n",
    "    results_arr.append(results)\n",
    "    \n",
    "    "
   ]
  },
  {
   "cell_type": "code",
   "execution_count": 34,
   "metadata": {
    "collapsed": false
   },
   "outputs": [],
   "source": [
    "results_arr = np.array(results_arr)"
   ]
  },
  {
   "cell_type": "code",
   "execution_count": 35,
   "metadata": {
    "collapsed": false
   },
   "outputs": [
    {
     "data": {
      "text/plain": [
       "array([66.588  , 64.53361, 59.96929], dtype=float32)"
      ]
     },
     "execution_count": 35,
     "metadata": {},
     "output_type": "execute_result"
    }
   ],
   "source": [
    "np.mean(results_arr,axis=0)"
   ]
  },
  {
   "cell_type": "code",
   "execution_count": 9,
   "metadata": {
    "collapsed": true
   },
   "outputs": [],
   "source": [
    "model = network()\n",
    "model.load_weights(\"temp/single-model-2993.h5\")"
   ]
  },
  {
   "cell_type": "code",
   "execution_count": 14,
   "metadata": {
    "collapsed": false
   },
   "outputs": [
    {
     "data": {
      "image/png": "[encoded data removed]",
      "text/plain": [
       "<matplotlib.figure.Figure at 0x7f08cc22ba90>"
      ]
     },
     "metadata": {},
     "output_type": "display_data"
    }
   ],
   "source": [
    "curr_weights = model.get_weights()[-2][:10,:10]\n",
    "plt.figure(figsize=(20,8))\n",
    "plt.imshow(curr_weights, cmap='hot',interpolation=\"nearest\")\n",
    "plt.show()"
   ]
  },
  {
   "cell_type": "code",
   "execution_count": 18,
   "metadata": {
    "collapsed": false
   },
   "outputs": [
    {
     "data": {
      "text/plain": [
       "array([ 3.83394095e-03,  1.46737823e-03, -2.90514855e-03,  3.32105719e-03,\n",
       "        2.74414849e-03, -1.14314619e-03,  9.63318918e-04,  6.11288473e-03,\n",
       "        3.97483213e-03, -2.93906126e-03,  8.49817996e-04, -5.28455828e-04,\n",
       "       -4.46704170e-03,  2.54163728e-03,  3.36640794e-03,  1.16100942e-03,\n",
       "       -1.51820132e-03,  7.69579550e-03,  3.62480897e-03, -2.82363594e-03,\n",
       "        5.84842358e-03, -2.89521035e-04, -2.46276642e-04,  2.32275762e-03,\n",
       "        3.03169154e-03,  2.58422899e-03, -1.28645659e-03,  9.95486230e-03,\n",
       "        4.95447032e-03, -1.36019161e-03,  1.92114024e-03,  3.62842518e-04,\n",
       "       -4.55649849e-03,  2.63425754e-03,  5.98812196e-03,  9.83291306e-04,\n",
       "       -5.58189968e-05,  6.62578363e-03,  4.07951651e-03, -2.23466079e-03,\n",
       "        1.35957799e-03,  9.04145243e-04, -4.31042444e-03,  3.50427441e-03,\n",
       "        5.28899441e-03,  2.28021434e-03,  1.22801517e-03,  7.37491343e-03,\n",
       "        4.45116265e-03, -3.68961482e-03,  4.11376404e-03,  4.71589109e-03,\n",
       "       -1.42026716e-03,  2.58718664e-03,  5.30682923e-03,  2.77305441e-03,\n",
       "        7.53402885e-04,  4.41639032e-03,  3.92997684e-03, -1.83730095e-03,\n",
       "       -4.09129076e-04, -1.05831772e-03, -3.76712857e-03,  5.72675548e-04,\n",
       "        4.27538669e-03,  1.84396340e-03,  2.62278807e-03,  5.81469899e-03,\n",
       "        5.69616491e-03, -3.39099974e-03, -1.36535557e-03, -6.26567844e-03,\n",
       "        5.17656608e-03,  2.17169028e-04,  1.12171716e-03, -1.75311381e-03,\n",
       "        1.88057288e-03, -3.42092058e-03,  3.73019069e-03, -7.80671486e-04,\n",
       "        5.34352381e-04, -6.46449719e-03,  2.91428459e-03, -8.09858495e-04,\n",
       "        2.58508441e-03, -1.45490246e-03,  2.34275055e-03, -8.34663864e-03,\n",
       "        2.32094852e-03,  8.92488606e-05,  3.52685223e-03, -5.20422962e-03,\n",
       "        3.76319257e-03, -5.86496375e-04,  1.99332437e-03, -2.76934495e-03,\n",
       "        2.20384798e-03, -5.24972146e-03,  4.75228950e-03, -7.05719343e-04,\n",
       "       -2.78260745e-03, -1.02167549e-02,  4.89855278e-03, -2.70984252e-03,\n",
       "       -7.04477658e-04, -1.65418885e-03,  6.02532225e-03, -6.54315669e-03,\n",
       "        4.40988503e-03, -2.96357065e-03,  5.14322659e-03, -1.35744701e-03,\n",
       "       -5.05824923e-04,  3.71122849e-03, -8.60217959e-04, -4.39043157e-03,\n",
       "       -1.83202827e-03,  2.17277324e-03, -4.55943402e-03, -4.37999284e-03,\n",
       "       -1.17149763e-03, -5.65590430e-03,  3.45995504e-04,  2.83848750e-03,\n",
       "        4.96293465e-03, -1.76978949e-03, -1.26221578e-03,  3.80194257e-03,\n",
       "       -5.09434426e-03, -2.78805988e-03, -6.42046856e-04, -2.59866100e-03,\n",
       "       -7.69458711e-04,  2.30887067e-03,  1.07352226e-03, -5.44745522e-03,\n",
       "        2.13380190e-05, -1.91333983e-03, -1.45898038e-03, -5.80235757e-03,\n",
       "        4.96100809e-04, -1.19762705e-03, -1.39382225e-03,  1.07864779e-03,\n",
       "        2.57598073e-03, -1.47878402e-03, -1.64520898e-04, -5.75665210e-04,\n",
       "       -4.99305269e-03, -9.29746078e-04, -1.05085853e-03, -2.92666780e-04,\n",
       "       -1.57776754e-03,  1.88192760e-03, -9.52319708e-04, -7.75999448e-04,\n",
       "       -9.82957077e-04,  5.69582277e-04, -4.68806596e-03,  6.74425857e-04,\n",
       "        1.45211152e-03,  4.97992558e-04, -6.93221868e-04, -1.58309849e-04,\n",
       "       -2.77934188e-04, -3.19348555e-03, -2.97424966e-04,  2.54568108e-03,\n",
       "       -6.11197017e-03, -3.15310131e-03,  3.02421488e-03, -2.60503218e-03,\n",
       "       -1.81351602e-03,  2.47084280e-03,  4.30522719e-04, -3.34426807e-03,\n",
       "       -2.02053203e-03,  1.78091461e-03, -3.87070654e-03, -2.14689039e-03,\n",
       "       -6.70276640e-04, -6.99531694e-04,  1.96836889e-04,  1.52576319e-03,\n",
       "       -1.30436965e-04, -1.74445903e-03,  3.52910487e-04, -2.57767551e-03,\n",
       "       -4.69855871e-03, -3.57410102e-03, -1.21209049e-03, -4.23484063e-03,\n",
       "        8.11071717e-04,  3.04720225e-03,  1.83952600e-03, -2.43130466e-03,\n",
       "       -4.27302811e-03,  6.85001840e-04, -8.11756216e-03,  6.92283129e-06,\n",
       "        5.77313302e-04, -2.22205301e-03, -3.04324296e-03,  4.35395399e-03,\n",
       "        1.35803653e-03, -5.27784647e-03, -2.73715355e-03, -7.98431167e-04,\n",
       "       -4.67930641e-03, -1.29106501e-03, -2.43666669e-04, -3.82485916e-03,\n",
       "       -2.04716111e-03,  1.16284762e-03,  3.19484947e-03, -7.08841253e-04,\n",
       "       -3.20893177e-03, -3.10577918e-04, -5.46904001e-03, -9.66777559e-04,\n",
       "       -1.11082452e-03, -2.22585304e-03, -4.34221560e-03,  3.55959428e-03,\n",
       "        2.26334739e-03, -1.99331832e-03, -2.84346985e-03,  1.69415562e-05,\n",
       "       -3.57552408e-03,  1.62733588e-04,  1.60209602e-03,  2.26175762e-04,\n",
       "        1.91680534e-04,  2.66203447e-03,  1.24770601e-03, -3.88634275e-03,\n",
       "       -2.31537642e-03, -8.39636603e-04, -4.76700749e-04, -3.63806752e-03,\n",
       "       -6.30086637e-04,  3.90572706e-04, -1.15559041e-03,  1.97490864e-03,\n",
       "        3.87931080e-03, -1.34187762e-03, -2.50328588e-03,  1.20474538e-03,\n",
       "       -4.64933552e-03, -2.52947421e-03,  2.06881971e-03,  4.37917624e-05,\n",
       "       -1.98911130e-03,  2.60996330e-03,  6.42022002e-04, -2.47756112e-03,\n",
       "        1.66487321e-03,  3.36219236e-04, -4.96547297e-03, -2.81175575e-03,\n",
       "       -1.63835147e-03, -3.10312677e-03,  2.15131251e-04,  3.41542391e-03,\n",
       "       -1.26317039e-03, -4.38488647e-03, -1.40436832e-03,  8.91934207e-04,\n",
       "       -3.27491289e-04, -3.52059305e-03,  1.19302829e-03,  2.05758400e-03,\n",
       "       -1.21914339e-03,  4.31136321e-03,  2.61532934e-03, -5.21007413e-03,\n",
       "       -5.91426971e-04, -7.16542709e-04, -4.42168210e-03, -3.00297746e-03,\n",
       "       -2.73937988e-03,  2.18919795e-05, -1.52740555e-04,  3.61223868e-03,\n",
       "        2.81871040e-03, -2.81313458e-03, -2.95607327e-03, -1.58610055e-03,\n",
       "       -5.99030033e-03, -4.46496811e-03,  1.86371058e-03, -1.74018135e-03,\n",
       "       -4.39093506e-04,  3.82377347e-03,  5.00181850e-05, -3.02634854e-03,\n",
       "       -2.46315566e-03,  1.86967605e-03, -6.94990670e-03, -1.23944134e-03,\n",
       "        1.02840026e-03, -2.77430448e-03, -3.56699835e-04, -2.33724932e-04,\n",
       "        8.02263792e-04, -5.43235801e-03, -3.84995132e-03, -1.88911406e-04,\n",
       "       -6.31973986e-03, -3.20688239e-03,  3.13219777e-03, -2.15216540e-03,\n",
       "       -1.35080959e-03,  2.23360979e-03,  2.76915519e-03, -3.45139345e-03,\n",
       "       -2.85548065e-03,  3.74247727e-04, -4.91714710e-03, -8.62420630e-03,\n",
       "        2.14489223e-03, -1.65167800e-03, -2.10234406e-03,  2.99458764e-03,\n",
       "       -6.13735698e-04, -4.69826721e-03, -5.16839325e-03, -6.65155705e-04,\n",
       "       -4.31406591e-03, -5.41431643e-03, -6.86768908e-04, -4.17731563e-03,\n",
       "       -6.95310067e-04,  2.20010034e-03,  2.12389510e-03, -2.89998995e-03,\n",
       "       -2.44201836e-03,  1.93379924e-03, -4.55789361e-03, -2.38087727e-03,\n",
       "        2.68617715e-03, -1.72272255e-03, -2.19310704e-03,  1.88450981e-03,\n",
       "        8.75440019e-04, -4.04652487e-03, -2.24804832e-03, -2.05835328e-04,\n",
       "       -4.92911879e-03, -5.92334720e-04,  8.30023922e-03, -3.30462446e-03,\n",
       "        3.65746231e-03,  5.11808612e-04,  3.14562167e-05,  2.61006667e-03,\n",
       "        1.71173026e-03, -3.53034260e-03, -5.49520191e-04,  2.66869972e-03,\n",
       "        5.58183249e-03, -2.98695802e-03,  6.34598872e-03,  1.04429387e-03,\n",
       "       -1.58702175e-03,  3.13665764e-03,  1.15651288e-03, -3.18467058e-03,\n",
       "        3.17477206e-05,  4.65665851e-03,  5.61366975e-03, -3.82987945e-03,\n",
       "        4.31427360e-03,  2.01162882e-03, -6.95263443e-04,  2.69203587e-03,\n",
       "        2.86887679e-03, -5.88092348e-03,  8.75493628e-04,  3.88598256e-03,\n",
       "        5.87136438e-03, -2.44609686e-03,  3.82733881e-03, -1.51298137e-03,\n",
       "       -1.12877297e-03,  3.02266795e-03,  1.13389303e-03, -7.64611596e-03,\n",
       "       -9.75369883e-04,  7.39838229e-04,  3.95579496e-03, -4.56859544e-03,\n",
       "        6.69614132e-03,  1.26766611e-03, -4.01885714e-03, -1.67745410e-03,\n",
       "        1.18536199e-03, -7.67760212e-03, -3.46007827e-03,  1.52938871e-03,\n",
       "        8.86970852e-03, -3.72298469e-04,  3.33812158e-03,  2.85708066e-03,\n",
       "       -7.79195398e-04,  1.99895399e-03,  1.92033185e-03, -3.91737977e-03,\n",
       "       -5.06713288e-04,  4.58776439e-03,  4.79003368e-03, -4.58605029e-03,\n",
       "        7.56605342e-03,  2.09045527e-03,  2.27397744e-04,  3.25174979e-03,\n",
       "        1.93849183e-03, -5.58689516e-03, -1.25502457e-03,  4.09757020e-03,\n",
       "        7.45682511e-03, -2.74594687e-03,  6.24586269e-03,  6.72383641e-04,\n",
       "       -1.75884576e-03, -1.66855077e-03, -1.35105976e-03, -5.71842352e-03,\n",
       "       -6.42779341e-05,  6.68649853e-04,  6.30783616e-03, -1.30724115e-03,\n",
       "        6.01018127e-03,  3.56775243e-03, -6.18688879e-04,  1.02928211e-03,\n",
       "        1.54173095e-03, -5.69432601e-03, -1.78069447e-03,  2.41229180e-04,\n",
       "        6.11605542e-03, -4.33070678e-03,  4.89458349e-03,  6.32525946e-04,\n",
       "       -2.06214981e-03,  9.65865795e-04, -4.18036478e-04, -1.88726967e-03,\n",
       "       -3.28645157e-03,  1.27443927e-03,  4.82514501e-03, -1.12726947e-03,\n",
       "        4.48712613e-03,  1.56703591e-03, -1.85365765e-03,  3.01445602e-03,\n",
       "        3.01504880e-03, -4.30954807e-03, -1.94965058e-03,  1.41875166e-03,\n",
       "        3.39388358e-03, -1.16619363e-03,  6.28391700e-03,  1.73621680e-04,\n",
       "        7.61108007e-04,  6.93051028e-04,  1.88953860e-03, -4.93555143e-03,\n",
       "       -8.97808350e-04,  1.28066808e-03,  3.62887583e-03, -4.82497038e-03,\n",
       "        6.07018406e-03,  1.83425448e-03,  7.53526459e-04,  1.82461750e-04,\n",
       "        2.26709503e-03, -4.94227931e-03, -3.89227411e-03,  4.79713315e-03,\n",
       "        4.99263545e-03, -2.55222735e-03,  8.98074638e-03,  1.04306429e-03,\n",
       "       -1.10540648e-04,  2.59659369e-03,  1.44026696e-03, -6.16147416e-03,\n",
       "       -1.23339589e-03,  1.50574674e-03,  6.92132954e-03, -3.90835945e-03,\n",
       "        8.30251724e-03, -4.76894761e-03,  3.62399529e-04,  6.56948984e-03,\n",
       "        1.28186331e-03, -7.12668803e-03, -2.79883156e-03,  1.43039261e-03,\n",
       "        5.25615178e-03, -4.79919836e-03,  7.76536483e-03,  1.35403313e-03,\n",
       "       -2.40201689e-03,  3.05108912e-03, -5.49627584e-04, -5.11459913e-03,\n",
       "       -3.35159153e-03,  1.71994767e-03,  8.21594615e-03, -2.41318904e-03,\n",
       "        7.68755609e-03,  1.92544816e-04, -2.23979354e-03,  2.27195001e-03,\n",
       "        1.80771074e-03, -5.73475659e-03, -1.08907974e-04,  1.36742834e-03,\n",
       "        8.96434020e-03, -5.75325964e-03,  6.82993606e-03,  1.53557886e-03,\n",
       "       -4.49571991e-03, -2.11830033e-04, -2.51878053e-03, -5.31735877e-03,\n",
       "       -2.55042594e-03,  2.43695220e-03,  6.07667211e-03, -3.80520569e-03,\n",
       "        7.32764602e-03, -5.24931820e-04, -2.05010944e-03, -3.71305534e-04,\n",
       "        4.42817388e-03, -5.27954195e-03,  9.28024820e-05, -1.29195885e-03,\n",
       "        6.38636807e-03, -9.43282736e-04,  2.08404451e-03, -1.02455379e-03,\n",
       "        1.87719328e-04, -9.23637650e-04,  3.08153383e-03, -7.65645783e-03,\n",
       "       -2.41940282e-03,  1.01164833e-03,  7.81025691e-03, -4.51408001e-03,\n",
       "        5.33718569e-03,  2.41175573e-03, -2.09104200e-03,  8.61539913e-04,\n",
       "       -4.57980146e-04, -5.96291246e-03, -9.95399547e-04, -5.05277421e-04,\n",
       "       -1.06946500e-02], dtype=float32)"
      ]
     },
     "execution_count": 18,
     "metadata": {},
     "output_type": "execute_result"
    }
   ],
   "source": [
    "model.get_weights()[-2].mean(axis=1)"
   ]
  },
  {
   "cell_type": "code",
   "execution_count": null,
   "metadata": {
    "collapsed": true
   },
   "outputs": [],
   "source": []
  }
 ],
 "metadata": {
  "anaconda-cloud": {},
  "kernelspec": {
   "display_name": "Python [conda env:anaconda]",
   "language": "python",
   "name": "conda-env-anaconda-py"
  },
  "language_info": {
   "codemirror_mode": {
    "name": "ipython",
    "version": 2
   },
   "file_extension": ".py",
   "mimetype": "text/x-python",
   "name": "python",
   "nbconvert_exporter": "python",
   "pygments_lexer": "ipython2",
   "version": "2.7.15"
  }
 },
 "nbformat": 4,
 "nbformat_minor": 1
}
