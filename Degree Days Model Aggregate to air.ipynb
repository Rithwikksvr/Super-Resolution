{
 "cells": [
  {
   "cell_type": "code",
   "execution_count": 1,
   "metadata": {
    "collapsed": false
   },
   "outputs": [
    {
     "name": "stderr",
     "output_type": "stream",
     "text": [
      "/home/rithwik/anaconda/lib/python2.7/site-packages/h5py/__init__.py:34: FutureWarning: Conversion of the second argument of issubdtype from `float` to `np.floating` is deprecated. In future, it will be treated as `np.float64 == np.dtype(float).type`.\n",
      "  from ._conv import register_converters as _register_converters\n",
      "Using TensorFlow backend.\n"
     ]
    }
   ],
   "source": [
    "import pandas  as pd\n",
    "import numpy as np\n",
    "import matplotlib.pyplot as plt\n",
    "import os\n",
    "import random\n",
    "np.random.seed(30)\n",
    "from sklearn.linear_model import LinearRegression\n",
    "from sklearn.neighbors import KNeighborsRegressor\n",
    "from collections import Counter\n",
    "import keras\n",
    "from keras.layers import Conv2D,Dense,Flatten\n",
    "import keras.backend as K\n",
    "from keras.callbacks import ModelCheckpoint\n",
    "from keras.layers import Input\n",
    "from keras.models import Model\n",
    "from sklearn.model_selection import KFold\n"
   ]
  },
  {
   "cell_type": "code",
   "execution_count": 2,
   "metadata": {
    "collapsed": true
   },
   "outputs": [],
   "source": [
    "days = pd.HDFStore('../Combined Datasets/daily.h5','r')\n",
    "hours = pd.HDFStore('../Combined Datasets/hourly.h5','r')"
   ]
  },
  {
   "cell_type": "code",
   "execution_count": 3,
   "metadata": {
    "collapsed": true
   },
   "outputs": [],
   "source": [
    "train_prop = .65\n",
    "v_prop = .2\n",
    "test_prop = .15\n",
    "keys = days.keys()\n",
    "\n",
    "const = 1000.0"
   ]
  },
  {
   "cell_type": "code",
   "execution_count": 4,
   "metadata": {
    "collapsed": false
   },
   "outputs": [],
   "source": [
    "def return_data(keys,n_months):\n",
    "    \n",
    "\n",
    "    appliance1 = 'use'\n",
    "    appliance2 = 'air1'\n",
    "    \n",
    "    \n",
    "\n",
    "    \n",
    "    X = np.array([days[i][appliance1].values for i in keys if (appliance1 in days[i].columns and appliance2 in days[i].columns )])[:,:28*n_months]/const\n",
    "    y = np.array([hours[i][appliance2].values for i in keys if (appliance1 in hours[i].columns and appliance2 in hours[i].columns )])[:,:(28*24*n_months)]/const\n",
    "    \n",
    "    X = X.reshape((len(X)*n_months,4,7))\n",
    "    X = np.expand_dims(X,axis=3)    \n",
    "    \n",
    "    \n",
    "    \n",
    "    y = y.reshape((len(y)*n_months,28*24))\n",
    "    \n",
    "    \n",
    "    \n",
    "    return X,y\n",
    "\n",
    "\n",
    "def mae(truth,pred):\n",
    "    return np.mean(const*np.abs((truth-pred)))\n",
    "\n",
    "    \n",
    "    \n",
    "    "
   ]
  },
  {
   "cell_type": "code",
   "execution_count": 5,
   "metadata": {
    "collapsed": true
   },
   "outputs": [],
   "source": [
    "def network():\n",
    "    \n",
    "    input_layer = Input(shape=(4,7,1),name=\"Monthly_Matrix\")\n",
    "    input_layer_2 = Input(shape=(1,),name=\"Cooling_Degree_Day_Monthly\")\n",
    "    \n",
    "\n",
    "    op1 = Conv2D(10,kernel_size=(4,1), strides=(1,1),name=\"Filter_4X1\")(input_layer)\n",
    "    \n",
    "    op1 = Flatten()(op1)\n",
    "    \n",
    "    \n",
    "    \n",
    "    op2 = Conv2D(10,kernel_size=(1,7), strides=(1,1),name=\"Filter_1X7\")(input_layer)\n",
    "    \n",
    "    op2 = Flatten()(op2)\n",
    "    \n",
    "    \n",
    "    op3 = Conv2D(10,kernel_size=(1,2),strides=(1,1),name=\"Filter_1X2\")(input_layer)\n",
    "    \n",
    "    op3 = Flatten()(op3)\n",
    "    \n",
    "    op4 = Conv2D(10,kernel_size=(2,1),strides=(1,1),name=\"Filter_2X1\")(input_layer)\n",
    "    \n",
    "    op4 = Flatten()(op4)\n",
    "    \n",
    "    #op5 = Conv2D(20,kernel_size=(3,3),strides=(1,1),padding='same')(input_layer)\n",
    "    \n",
    "    #op5 = Conv2D(20,3,strides=(1,1),padding='same')(input_layer)\n",
    "    \n",
    "    #op5 = Flatten()(op5)\n",
    "    \n",
    "    #op5 =  keras.layers.Dropout(.2)(op5)\n",
    "    \n",
    "    #op5  = Dense(168*4)(op5)\n",
    "    \n",
    "    \n",
    "    \n",
    "    \n",
    "    \n",
    "    \n",
    "    \n",
    "    \n",
    "    \n",
    "    merge_layer = keras.layers.concatenate([op1, op2, op3,op4],name=\"Concatenation_1\")\n",
    "    \n",
    "\n",
    "    \n",
    "    merge_layer =  keras.layers.Dropout(.2)(merge_layer)\n",
    "    \n",
    "    \n",
    "    \n",
    "    merge_layer = keras.layers.concatenate(([merge_layer,input_layer_2]),name=\"Concatenation_2\")\n",
    "    \n",
    "    final_layer = Dense(168*4,name=\"Output_Dense\",activation='relu')(merge_layer)\n",
    "    \n",
    "    \n",
    "    #final_layer = keras.layers.LeakyReLU(alpha=0.01)(final_layer)\n",
    "    \n",
    "    #predictions = Dense(1, activation='sigmoid')(merge_layer)\n",
    "\n",
    "    \n",
    "    \n",
    "    \n",
    "    model = Model(inputs=[input_layer,input_layer_2], outputs=final_layer)\n",
    "\n",
    "    \n",
    "    return model\n",
    "    \n",
    "    "
   ]
  },
  {
   "cell_type": "code",
   "execution_count": 6,
   "metadata": {
    "collapsed": true
   },
   "outputs": [],
   "source": [
    "def empty_dir(dir_name):\n",
    "    for i in os.listdir(dir_name):\n",
    "        os.remove(dir_name+\"/\"+i)"
   ]
  },
  {
   "cell_type": "code",
   "execution_count": 14,
   "metadata": {
    "collapsed": false
   },
   "outputs": [],
   "source": [
    "def fit_model(train_x,train_y,test_x,test_y,v_x,v_y):\n",
    "    \n",
    "    model = network()\n",
    "    n_epochs = 1000\n",
    "    sgd = keras.optimizers.SGD(lr=0.03)\n",
    "    rmsprop  = keras.optimizers.RMSprop(lr=.001)\n",
    "    adagrad = keras.optimizers.adagrad(lr=.001)\n",
    "    model.compile(optimizer=sgd, loss='mean_squared_error')\n",
    "    \n",
    "    dir_name = 'temp'\n",
    "    empty_dir(dir_name)\n",
    "    \n",
    "    print(\"Started Training!\")\n",
    "    checkpoint = ModelCheckpoint(dir_name+'/single-model-{epoch:04d}.h5', verbose=0, monitor='val_loss',save_best_only=True, mode='auto')  \n",
    "    model.fit([train_x,train_temp], train_y, epochs=n_epochs, validation_data=[[v_x,v_temp],v_y], callbacks=[checkpoint], verbose=0)\n",
    "\n",
    "    all_files = os.listdir(dir_name)\n",
    "    all_files.sort()\n",
    "    weights_file = all_files[-1]\n",
    "    \n",
    "    \n",
    "    model.load_weights(dir_name+\"/\"+weights_file)\n",
    "    \n",
    "    \n",
    "    pred_train = model.predict([train_x,train_temp])\n",
    "    pred_v = model.predict([v_x,v_temp])\n",
    "    pred_test = model.predict([test_x,test_temp])\n",
    "    \n",
    "    train_cost = mae(train_y,pred_train)\n",
    "    v_cost = mae(v_y,pred_v)\n",
    "    test_cost = mae(test_y,pred_test)\n",
    "    \n",
    "    return train_cost,v_cost,test_cost\n",
    "    \n",
    "    \n",
    "    \n",
    "    \n",
    "    \n",
    "    \n",
    "    "
   ]
  },
  {
   "cell_type": "code",
   "execution_count": 15,
   "metadata": {
    "collapsed": false
   },
   "outputs": [
    {
     "name": "stdout",
     "output_type": "stream",
     "text": [
      "Started Training!\n",
      "(219.74353, 201.95308, 197.64436)\n",
      "Started Training!\n",
      "(198.95792, 210.8549, 274.86588)\n",
      "Started Training!\n",
      "(206.91428, 217.63936, 225.63892)\n",
      "Started Training!\n",
      "(218.28247, 203.0724, 198.06882)\n",
      "Started Training!\n",
      "(190.25533, 168.88123, 334.48624)\n"
     ]
    }
   ],
   "source": [
    "n_experiments = 5\n",
    "results_arr = [] \n",
    "for exp in range(n_experiments):\n",
    "    \n",
    "    keys = days.keys()\n",
    "\n",
    "    np.random.seed(exp)\n",
    "    \n",
    "    np.random.shuffle(keys)\n",
    "\n",
    "    train_homes = keys[:int(len(keys)*train_prop)]\n",
    "    test_homes = keys[int(len(keys)*train_prop):int(-len(keys)*v_prop)]\n",
    "    val_homes = keys[int(-len(keys)*v_prop):]\n",
    "    \n",
    "    train_x,train_y = return_data(train_homes,3)\n",
    "    \n",
    "    test_x,test_y = return_data(test_homes,3)\n",
    "    \n",
    "    v_x,v_y  = return_data(val_homes,3)\n",
    "    \n",
    "    \n",
    "    \n",
    "    vals = [16,18,21]\n",
    "    \n",
    "    \n",
    "    train_temp = np.array(vals*(len(train_x)/3))\n",
    "    \n",
    "    v_temp = np.array(vals*(len(v_x)/3))\n",
    "    \n",
    "    test_temp = np.array(vals*(len(test_x)/3))\n",
    "    \n",
    "    \n",
    "    \n",
    "    \n",
    "    results = fit_model(train_x,train_y,test_x,test_y,v_x,v_y)\n",
    "    \n",
    "    print (results)\n",
    "    \n",
    "    results_arr.append(results)\n",
    "    "
   ]
  },
  {
   "cell_type": "code",
   "execution_count": 16,
   "metadata": {
    "collapsed": false
   },
   "outputs": [],
   "source": [
    "results_arr = np.array(results_arr)"
   ]
  },
  {
   "cell_type": "code",
   "execution_count": 17,
   "metadata": {
    "collapsed": false
   },
   "outputs": [
    {
     "data": {
      "text/plain": [
       "array([206.83072, 200.4802 , 246.14084], dtype=float32)"
      ]
     },
     "execution_count": 17,
     "metadata": {},
     "output_type": "execute_result"
    }
   ],
   "source": [
    "np.mean(results_arr,axis=0)"
   ]
  },
  {
   "cell_type": "code",
   "execution_count": 22,
   "metadata": {
    "collapsed": false
   },
   "outputs": [
    {
     "data": {
      "text/plain": [
       "28471.994"
      ]
     },
     "execution_count": 22,
     "metadata": {},
     "output_type": "execute_result"
    }
   ],
   "source": [
    "v_x.sum()"
   ]
  },
  {
   "cell_type": "code",
   "execution_count": 23,
   "metadata": {
    "collapsed": false
   },
   "outputs": [
    {
     "data": {
      "text/plain": [
       "6779.1816"
      ]
     },
     "execution_count": 23,
     "metadata": {},
     "output_type": "execute_result"
    }
   ],
   "source": [
    "v_y.sum()"
   ]
  },
  {
   "cell_type": "code",
   "execution_count": 9,
   "metadata": {
    "collapsed": false
   },
   "outputs": [],
   "source": [
    "model = network()\n",
    "model.load_weights(\"temp/single-model-2969.h5\")"
   ]
  },
  {
   "cell_type": "code",
   "execution_count": 10,
   "metadata": {
    "collapsed": false
   },
   "outputs": [
    {
     "name": "stdout",
     "output_type": "stream",
     "text": [
      "(4, 1, 1, 10)\n",
      "(10,)\n",
      "(1, 7, 1, 10)\n",
      "(10,)\n",
      "(1, 2, 1, 10)\n",
      "(10,)\n",
      "(2, 1, 1, 10)\n",
      "(10,)\n",
      "(561, 672)\n",
      "(672,)\n"
     ]
    }
   ],
   "source": [
    "for i in model.get_weights():\n",
    "    print (i.shape)"
   ]
  },
  {
   "cell_type": "code",
   "execution_count": 12,
   "metadata": {
    "collapsed": false
   },
   "outputs": [
    {
     "data": {
      "image/png": "[encoded data removed]",
      "text/plain": [
       "<matplotlib.figure.Figure at 0x7faee4b61690>"
      ]
     },
     "metadata": {},
     "output_type": "display_data"
    }
   ],
   "source": [
    "curr_weights = model.get_weights()[-2][-10:,:10]\n",
    "plt.figure(figsize=(20,8))\n",
    "plt.imshow(curr_weights, cmap='hot',interpolation=\"nearest\")\n",
    "plt.show()"
   ]
  },
  {
   "cell_type": "code",
   "execution_count": 13,
   "metadata": {
    "collapsed": false
   },
   "outputs": [
    {
     "data": {
      "text/plain": [
       "array([[ 0.02596976,  0.0482963 , -0.02839687,  0.01316852,  0.04524082,\n",
       "         0.06178158, -0.00160338, -0.01570191,  0.03527257,  0.06876647],\n",
       "       [ 0.05722498, -0.05457132,  0.00863692,  0.01152798, -0.05326628,\n",
       "        -0.05017353,  0.05693913, -0.05115849, -0.02168653,  0.06246469],\n",
       "       [-0.03715538,  0.04195913, -0.0373541 , -0.00283418,  0.02592027,\n",
       "         0.00122386, -0.04379235, -0.00320593,  0.05182707,  0.03609965],\n",
       "       [ 0.00881093,  0.0307638 , -0.03529026, -0.03643909, -0.01025578,\n",
       "         0.00697697, -0.03152126, -0.01388553,  0.05213583, -0.00832125],\n",
       "       [-0.03100645,  0.04740818, -0.00138092,  0.06596863,  0.02590018,\n",
       "        -0.04719331, -0.02574683,  0.01049333, -0.05825188,  0.05438694],\n",
       "       [-0.05700709, -0.01183079, -0.00184746,  0.03001938, -0.01021702,\n",
       "        -0.02104314, -0.00141323,  0.00567264,  0.06613807,  0.0228859 ],\n",
       "       [-0.00198874, -0.0169977 , -0.00609615, -0.00218449, -0.04219309,\n",
       "        -0.00743559, -0.06231263, -0.06871634,  0.03505942, -0.02549819],\n",
       "       [ 0.06779233, -0.05239397,  0.02540922, -0.06038369, -0.05897645,\n",
       "         0.00877107,  0.03832066,  0.05990449,  0.04377973, -0.05330747],\n",
       "       [ 0.00708704, -0.05773287,  0.06796715,  0.04390886,  0.00859709,\n",
       "        -0.02395218,  0.04472652,  0.03223294, -0.0669168 ,  0.04736717],\n",
       "       [ 0.02399952, -0.06086888, -0.03998461, -0.02862405,  0.04070988,\n",
       "         0.00166151,  0.03271541, -0.02394815,  0.01055068, -0.07250205]],\n",
       "      dtype=float32)"
      ]
     },
     "execution_count": 13,
     "metadata": {},
     "output_type": "execute_result"
    }
   ],
   "source": [
    "curr_weights"
   ]
  },
  {
   "cell_type": "code",
   "execution_count": 34,
   "metadata": {
    "collapsed": false
   },
   "outputs": [
    {
     "data": {
      "text/plain": [
       "(672,)"
      ]
     },
     "execution_count": 34,
     "metadata": {},
     "output_type": "execute_result"
    }
   ],
   "source": [
    "model.get_weights()[-1].shape"
   ]
  },
  {
   "cell_type": "code",
   "execution_count": 16,
   "metadata": {
    "collapsed": false
   },
   "outputs": [
    {
     "data": {
      "text/plain": [
       "array([ 1.14541000e-03,  2.74822291e-04,  1.29201310e-03, -1.98219484e-03,\n",
       "        2.33696331e-03, -7.54793931e-04,  5.49861754e-04, -8.04647803e-03,\n",
       "       -1.29135570e-03, -3.73425824e-03, -1.15119771e-03,  5.73037716e-04,\n",
       "       -1.07128530e-04, -9.01163265e-04,  1.95944170e-03, -6.59113284e-04,\n",
       "        1.67960345e-04, -4.78815660e-03, -2.52046925e-03, -5.03523927e-03,\n",
       "       -1.58396771e-03, -5.11171005e-04, -4.63839853e-04, -1.92508602e-03,\n",
       "        1.49328809e-03,  2.66265444e-04, -8.10756057e-04, -4.59716236e-03,\n",
       "       -9.45417094e-04, -6.42996328e-03, -8.86817346e-04,  5.05485979e-04,\n",
       "       -1.33865711e-03, -3.38044553e-03,  1.10516092e-03, -1.33833720e-03,\n",
       "       -2.70576449e-04, -4.35252488e-03, -5.07714367e-03, -4.99378936e-03,\n",
       "       -2.02748436e-03,  1.05852319e-03, -2.95965420e-03, -3.96772241e-03,\n",
       "       -1.85232959e-03,  1.64236291e-03,  7.77982874e-04, -2.90715345e-03,\n",
       "        1.40838150e-04, -3.78846517e-03, -1.98350474e-03,  7.53938628e-04,\n",
       "       -1.17259077e-03, -1.71570375e-03,  1.69701438e-04, -2.21274397e-03,\n",
       "       -1.27730891e-04, -5.66514395e-03, -3.61827645e-03, -6.29927916e-03,\n",
       "       -5.85575704e-04,  1.57281407e-04, -1.31030171e-03, -7.62828393e-04,\n",
       "        3.20747931e-05,  1.65701972e-03, -1.61574094e-03, -6.01058686e-03,\n",
       "       -4.53738635e-03, -5.88079169e-03,  2.81177717e-03, -1.67664583e-03,\n",
       "       -2.57375505e-04, -2.86596897e-03,  2.93719093e-03,  4.77396697e-03,\n",
       "        2.83350167e-03,  5.01382118e-03,  1.20512233e-03,  7.66109908e-03,\n",
       "        5.08133497e-04, -2.28504860e-03,  2.37014284e-03, -4.01660148e-03,\n",
       "        3.94964591e-03,  3.42562445e-03,  1.64297945e-03,  4.21751384e-03,\n",
       "        2.22293474e-03,  8.27168114e-03,  8.51365970e-04, -8.15063249e-04,\n",
       "        2.48872893e-05, -4.49212873e-03,  1.46310427e-03,  1.63539499e-03,\n",
       "        3.22618149e-03,  2.68023717e-03,  8.12190992e-04,  5.12944674e-03,\n",
       "        2.22439226e-03, -2.74796970e-04,  1.09036884e-03, -6.78876182e-03,\n",
       "       -8.09700810e-04,  2.45587574e-03,  7.21915858e-04,  1.86330476e-03,\n",
       "        1.16350711e-03,  5.37922885e-03, -4.88682976e-03,  2.55914172e-03,\n",
       "        3.64801497e-03,  2.14793440e-03, -5.86253032e-03, -1.98405352e-03,\n",
       "        2.78201653e-03, -3.99329094e-03, -4.10412904e-03,  1.36643369e-03,\n",
       "       -2.29148287e-03,  2.80304439e-03,  3.73555021e-03, -1.07210618e-03,\n",
       "       -2.80917762e-03,  6.49263442e-04, -3.21115949e-04, -1.46571675e-03,\n",
       "        5.09831647e-04, -1.43595354e-03, -2.29327451e-03,  2.53956136e-03,\n",
       "        1.53210550e-03,  3.69086233e-03, -2.29731901e-03, -3.39399348e-03,\n",
       "        1.80102035e-03, -2.90638272e-04, -8.85405694e-04,  1.98271964e-03,\n",
       "       -4.89188358e-03, -2.72298674e-03,  2.65355292e-03,  1.26663118e-03,\n",
       "       -6.42070174e-03, -3.51084236e-05,  3.08866729e-03,  1.23793876e-03,\n",
       "       -5.18042082e-03,  1.81437819e-03, -1.16468256e-03,  4.40643256e-04,\n",
       "       -1.53937051e-03, -6.60089077e-04, -3.62572190e-03, -3.43669625e-03,\n",
       "        1.88273250e-03,  2.11061211e-03, -1.60874159e-03,  3.57576035e-04,\n",
       "       -3.70232901e-03,  1.04248233e-03,  9.64388601e-04,  9.17494472e-04,\n",
       "       -2.79353000e-03,  2.93262559e-03, -4.74533328e-04, -2.42053880e-03,\n",
       "       -2.60241795e-04, -3.28168884e-04, -1.30976678e-03,  2.58862786e-03,\n",
       "        5.52288897e-04,  2.20279535e-03, -4.40011639e-03,  5.90157928e-04,\n",
       "        1.52026059e-03, -8.44560389e-04, -7.81994662e-04, -9.75202245e-04,\n",
       "       -2.72415602e-03, -3.61577782e-04,  3.03316774e-04,  1.08786672e-03,\n",
       "       -4.12007188e-03,  1.37615483e-03,  1.14540721e-03, -2.79065687e-03,\n",
       "       -2.15193583e-03, -2.00294470e-03, -4.75751236e-03,  5.24664810e-03,\n",
       "        2.00889399e-03,  4.52383480e-04, -4.69300523e-03,  6.88076194e-04,\n",
       "        2.05168384e-03, -3.08075547e-03, -1.08370953e-03, -2.06324412e-03,\n",
       "       -7.51896296e-03,  2.23712763e-03,  1.75812305e-03,  1.82733929e-03,\n",
       "       -2.08125147e-03, -3.59997328e-04,  2.69839494e-03, -5.68530173e-04,\n",
       "       -8.27759330e-04,  2.68293981e-04, -4.75777825e-03, -4.43340425e-04,\n",
       "        2.79442803e-03,  1.71536079e-03, -5.37013076e-03, -8.37153464e-04,\n",
       "        2.95594428e-03, -2.83096265e-03, -7.83139025e-04,  5.81597793e-04,\n",
       "       -3.30058811e-03,  2.19995342e-03, -4.48663661e-04,  9.69780434e-04,\n",
       "       -3.46152298e-03,  2.66509317e-03,  7.48135673e-04, -1.29873434e-03,\n",
       "       -7.75939203e-04,  2.03438243e-03, -2.85473652e-03, -6.10626768e-04,\n",
       "        3.01409466e-03,  3.80973704e-03, -4.32009669e-03,  6.75635703e-04,\n",
       "       -1.16283761e-03, -9.63306869e-04,  6.33370481e-04, -1.82329584e-03,\n",
       "       -3.97649687e-03,  3.70758516e-03,  3.24711204e-03,  1.51245645e-03,\n",
       "       -3.92601639e-03,  4.23113233e-04,  4.27145557e-03, -6.16267498e-04,\n",
       "       -1.43594970e-03, -1.89452816e-03, -4.09324374e-03,  3.17042274e-03,\n",
       "        2.85813445e-03,  1.13465567e-03, -5.24108997e-03, -1.05892925e-03,\n",
       "        4.96937602e-04,  1.43247878e-03, -1.18521205e-03, -1.69504900e-03,\n",
       "       -7.59098446e-03,  9.72328184e-04, -3.63730156e-04,  1.99317187e-03,\n",
       "       -2.95862975e-03, -3.40854842e-03,  4.87268204e-03, -1.48386485e-03,\n",
       "       -1.60090695e-03, -2.15441687e-03, -2.87901214e-03,  5.04574087e-03,\n",
       "        2.28602602e-03, -1.77181547e-03, -3.84395383e-03, -2.70713295e-04,\n",
       "        2.38869595e-03, -2.24446156e-03,  3.63226194e-04,  2.31075170e-03,\n",
       "       -8.11948674e-04, -5.87572285e-04,  4.25857538e-03, -1.40205177e-03,\n",
       "       -1.89140753e-03, -2.69036693e-03, -1.42732286e-03,  1.07228919e-03,\n",
       "       -2.61883857e-03,  1.24128594e-03, -5.84657071e-03,  2.75311572e-03,\n",
       "       -1.00674294e-03,  1.91053445e-03, -6.74633309e-03,  4.71721822e-03,\n",
       "        1.04207266e-03, -3.59558105e-03,  1.03202905e-03, -6.84787752e-04,\n",
       "       -4.41691047e-03, -1.26664308e-04,  1.04023675e-04,  3.90765211e-03,\n",
       "       -3.89897404e-03,  3.01242294e-03,  9.51054797e-04, -1.87850976e-03,\n",
       "       -1.47805980e-03,  9.95042774e-06, -5.33956662e-03,  1.85556605e-03,\n",
       "        2.61858362e-03,  1.40720513e-03, -5.87619562e-03, -3.11220210e-04,\n",
       "        9.21982748e-04,  1.37328298e-03,  6.14697230e-04,  9.84716928e-04,\n",
       "       -2.35758047e-03,  1.40828197e-03,  3.56999971e-03,  2.02195533e-03,\n",
       "       -4.72730398e-03,  1.63051626e-03,  1.74620620e-03, -5.13869745e-04,\n",
       "       -4.05349629e-03,  4.66659840e-04, -4.16633999e-03,  3.91311571e-03,\n",
       "       -1.51281257e-03,  2.21998617e-03, -5.42298192e-03,  2.25412147e-03,\n",
       "        2.25882791e-03, -2.34311749e-03, -1.60730083e-03,  4.85103927e-04,\n",
       "       -6.01958111e-03,  2.21765926e-03, -1.77019247e-04,  3.58922494e-04,\n",
       "       -3.21759470e-03, -1.83731958e-03,  3.48651828e-03, -1.58434501e-03,\n",
       "        1.42638455e-03, -3.26539390e-03,  4.31005284e-03,  2.13051704e-03,\n",
       "        2.28652800e-03,  4.83425509e-04, -1.65235798e-03,  3.89543595e-03,\n",
       "        1.11521932e-03, -2.19613290e-03,  3.43161752e-03,  3.37021472e-03,\n",
       "       -1.35240215e-03,  3.31038097e-03,  1.30437349e-03, -3.22633050e-03,\n",
       "       -9.28758309e-05,  4.06821305e-03, -2.15128204e-03,  1.25098205e-03,\n",
       "        6.36300864e-03,  2.46392097e-03,  1.25113619e-03,  2.87844520e-03,\n",
       "        8.89915100e-04, -3.53912415e-04,  8.48049123e-04,  3.81334405e-03,\n",
       "       -4.43075318e-03, -1.51714179e-04,  7.45865703e-03,  6.27373345e-04,\n",
       "        2.92967563e-03,  4.18349262e-03,  3.07778269e-03, -2.54299236e-03,\n",
       "        2.66420795e-03,  5.46788680e-04,  1.76504836e-03, -1.05658465e-03,\n",
       "        9.05052386e-03,  2.63812632e-04,  2.70228693e-03,  5.50905801e-03,\n",
       "        4.26610420e-03, -2.40999158e-03, -1.24527398e-03,  3.69977951e-03,\n",
       "        4.72134416e-04, -1.26052555e-03,  5.87210152e-03,  4.59780125e-03,\n",
       "        1.15738786e-03,  4.64734249e-03, -5.90855896e-04,  8.38486303e-04,\n",
       "        1.93910126e-03,  1.65204576e-03, -1.04655896e-03, -1.16556708e-04,\n",
       "        4.85867914e-03,  5.55860752e-04,  1.51165186e-05,  1.91373844e-03,\n",
       "        2.26918003e-03, -2.41670897e-03,  1.23295133e-04,  4.28019045e-03,\n",
       "        6.79567514e-04, -2.12122430e-03,  6.47983793e-03,  4.57990821e-03,\n",
       "        1.81893399e-03,  3.28046898e-03,  1.90231984e-03, -3.23648611e-03,\n",
       "       -1.57999713e-03,  2.53042532e-03, -1.12645597e-04, -1.74121221e-03,\n",
       "        8.08324385e-03,  1.25573389e-03,  9.46684799e-04,  5.55695221e-03,\n",
       "        7.50310894e-04, -7.96924985e-04, -9.27563116e-04,  3.31418915e-03,\n",
       "       -1.07150897e-03, -1.42917747e-03,  4.70987475e-03,  6.97738549e-04,\n",
       "       -1.13776384e-03,  2.53478694e-03,  1.41012983e-03, -1.64551346e-03,\n",
       "       -5.42392139e-04,  2.24896171e-03,  4.97414148e-04,  8.31597543e-04,\n",
       "        6.76393881e-03,  2.92093633e-03,  7.65848745e-05,  5.87165030e-03,\n",
       "       -1.97690519e-04, -1.99090410e-03,  1.25605409e-04,  4.24518395e-04,\n",
       "        5.38555381e-04, -1.07343844e-03,  5.88570675e-03, -2.96542508e-04,\n",
       "        1.23199134e-03,  3.91526474e-03,  1.29284884e-03,  7.11611472e-04,\n",
       "       -7.12265319e-04,  4.38089762e-03,  4.09317348e-04, -3.41795880e-04,\n",
       "        5.38566429e-03,  1.84168166e-03,  1.39482858e-04,  5.68960141e-03,\n",
       "        5.09840494e-04, -4.07438958e-03,  1.37620687e-03,  9.76111041e-04,\n",
       "       -1.51416729e-03, -1.51346927e-03,  6.93111774e-03,  2.77153146e-03,\n",
       "        2.62740208e-03,  1.44600088e-03,  2.75109633e-04, -3.16466042e-03,\n",
       "       -1.67076837e-03,  1.47512252e-03, -4.79692331e-04,  1.20419578e-03,\n",
       "        6.52967300e-03,  1.90770166e-04,  1.81298330e-03,  3.23222647e-03,\n",
       "        5.96751692e-04,  7.51033076e-04,  3.07588605e-04,  1.29354908e-03,\n",
       "        2.05510925e-03, -1.60891295e-03,  7.90991541e-03,  1.75571837e-03,\n",
       "        6.50115908e-05,  4.56734141e-03,  2.04360276e-03, -1.36365427e-03,\n",
       "        5.65994007e-04,  1.20645110e-03,  1.33164134e-03,  2.43393624e-05,\n",
       "        4.45198594e-03,  1.72322209e-03, -1.30002748e-03,  5.89462742e-03,\n",
       "        1.91114203e-03, -1.96728250e-03,  4.22865502e-04,  1.32150121e-03,\n",
       "        1.28402654e-03,  1.56384066e-03,  7.74482731e-03,  1.84079504e-03,\n",
       "       -1.07887969e-03,  1.55809324e-03,  2.52982229e-03, -3.68068507e-03,\n",
       "        1.36937364e-03,  1.97304087e-03, -1.51718140e-03,  3.16087785e-03,\n",
       "        8.03562813e-03,  2.71879439e-03,  9.79139353e-04,  3.40922596e-03,\n",
       "        1.35884236e-03, -3.96705931e-03, -7.57308211e-04,  4.63197753e-03,\n",
       "        6.36454031e-04,  1.02311233e-03,  6.17183233e-03,  5.63321309e-03,\n",
       "        3.48860514e-03,  4.98153782e-03,  2.02293159e-03, -2.40535010e-03,\n",
       "        2.62998324e-03,  2.87212967e-03, -2.88770316e-05, -2.23898632e-03,\n",
       "        6.29472826e-03,  3.56942136e-03,  1.13797933e-03,  3.52532463e-03,\n",
       "        4.77707013e-03, -3.23934434e-03, -5.17896842e-04,  3.19272629e-03,\n",
       "        1.15170178e-03, -7.02520658e-04,  4.47163638e-03,  1.06084692e-04,\n",
       "       -7.71808205e-03], dtype=float32)"
      ]
     },
     "execution_count": 16,
     "metadata": {},
     "output_type": "execute_result"
    }
   ],
   "source": [
    "model.get_weights()[-2].mean(axis=1)"
   ]
  },
  {
   "cell_type": "code",
   "execution_count": null,
   "metadata": {
    "collapsed": true
   },
   "outputs": [],
   "source": []
  }
 ],
 "metadata": {
  "anaconda-cloud": {},
  "kernelspec": {
   "display_name": "Python [conda env:anaconda]",
   "language": "python",
   "name": "conda-env-anaconda-py"
  },
  "language_info": {
   "codemirror_mode": {
    "name": "ipython",
    "version": 2
   },
   "file_extension": ".py",
   "mimetype": "text/x-python",
   "name": "python",
   "nbconvert_exporter": "python",
   "pygments_lexer": "ipython2",
   "version": "2.7.15"
  }
 },
 "nbformat": 4,
 "nbformat_minor": 1
}
