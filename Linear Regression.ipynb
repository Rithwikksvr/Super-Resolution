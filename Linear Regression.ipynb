{
 "cells": [
  {
   "cell_type": "code",
   "execution_count": 1,
   "metadata": {
    "collapsed": false
   },
   "outputs": [],
   "source": [
    "import pandas  as pd\n",
    "import numpy as np\n",
    "import matplotlib.pyplot as plt\n",
    "import random\n",
    "np.random.seed(10)\n",
    "from sklearn.neighbors import KNeighborsRegressor"
   ]
  },
  {
   "cell_type": "code",
   "execution_count": null,
   "metadata": {
    "collapsed": true
   },
   "outputs": [],
   "source": []
  },
  {
   "cell_type": "code",
   "execution_count": 22,
   "metadata": {
    "collapsed": false
   },
   "outputs": [],
   "source": [
    "def load_data(string,path='../Datasets for Mid Sem Presentation/'):\n",
    "    X = np.load(path+string+\"_x.npy\")\n",
    "    y = np.load(path+string+\"_y.npy\")\n",
    "    \n",
    "    return X,y\n",
    "        \n",
    "    \n",
    "def relative_cost(truth,pred):\n",
    "    return np.mean(abs(pred-truth)/(1+truth))\n",
    "\n",
    "\n",
    "\n",
    "\n",
    "\n",
    "def abs_error(pred,truth):\n",
    "    return np.mean(np.abs(pred-truth))"
   ]
  },
  {
   "cell_type": "code",
   "execution_count": 23,
   "metadata": {
    "collapsed": false
   },
   "outputs": [],
   "source": [
    "test_x,test_y = load_data('test_data')\n",
    "train_x,train_y = load_data(\"train_data_2\")\n",
    "v_x,v_y = load_data(\"val_data_2\")"
   ]
  },
  {
   "cell_type": "code",
   "execution_count": 24,
   "metadata": {
    "collapsed": true
   },
   "outputs": [],
   "source": [
    "from sklearn.linear_model import LinearRegression"
   ]
  },
  {
   "cell_type": "code",
   "execution_count": 25,
   "metadata": {
    "collapsed": false
   },
   "outputs": [
    {
     "data": {
      "text/plain": [
       "LinearRegression(copy_X=True, fit_intercept=True, n_jobs=None,\n",
       "         normalize=False)"
      ]
     },
     "execution_count": 25,
     "metadata": {},
     "output_type": "execute_result"
    }
   ],
   "source": [
    "model = LinearRegression()\n",
    "model.fit(train_x,train_y)"
   ]
  },
  {
   "cell_type": "code",
   "execution_count": 26,
   "metadata": {
    "collapsed": false
   },
   "outputs": [],
   "source": [
    "pred_train = model.predict(train_x)\n",
    "pred_v = model.predict(v_x)\n",
    "pred_test = model.predict(test_x)"
   ]
  },
  {
   "cell_type": "code",
   "execution_count": 27,
   "metadata": {
    "collapsed": false
   },
   "outputs": [],
   "source": [
    "train_cost = relative_cost(train_y,pred_train)\n",
    "v_cost = relative_cost(v_y,pred_v)\n",
    "test_cost = relative_cost(test_y,pred_test)"
   ]
  },
  {
   "cell_type": "code",
   "execution_count": 28,
   "metadata": {
    "collapsed": false
   },
   "outputs": [
    {
     "data": {
      "text/plain": [
       "935056.8"
      ]
     },
     "execution_count": 28,
     "metadata": {},
     "output_type": "execute_result"
    }
   ],
   "source": [
    "train_x[0].sum()"
   ]
  },
  {
   "cell_type": "code",
   "execution_count": 29,
   "metadata": {
    "collapsed": false
   },
   "outputs": [
    {
     "data": {
      "text/plain": [
       "(0.7769037, 1.2031565, 1.4142147)"
      ]
     },
     "execution_count": 29,
     "metadata": {},
     "output_type": "execute_result"
    }
   ],
   "source": [
    "train_cost,test_cost,v_cost"
   ]
  },
  {
   "cell_type": "code",
   "execution_count": 30,
   "metadata": {
    "collapsed": true
   },
   "outputs": [],
   "source": [
    "train_cost = abs_error(train_y,pred_train)\n",
    "v_cost = abs_error(v_y,pred_v)\n",
    "test_cost = abs_error(test_y,pred_test)"
   ]
  },
  {
   "cell_type": "code",
   "execution_count": 31,
   "metadata": {
    "collapsed": false
   },
   "outputs": [
    {
     "data": {
      "text/plain": [
       "(273.1952, 469.8713, 536.3746)"
      ]
     },
     "execution_count": 31,
     "metadata": {},
     "output_type": "execute_result"
    }
   ],
   "source": [
    "train_cost,test_cost,v_cost"
   ]
  },
  {
   "cell_type": "markdown",
   "metadata": {},
   "source": [
    "# Another Regression\n"
   ]
  },
  {
   "cell_type": "markdown",
   "metadata": {},
   "source": [
    "Input Parameters are Bills of the Thirty Days, Hour Number and Day Number.\n",
    "Output if the  Bill of the House of that Hour on that Day"
   ]
  },
  {
   "cell_type": "code",
   "execution_count": 32,
   "metadata": {
    "collapsed": true
   },
   "outputs": [],
   "source": [
    "def transformer(X,y):\n",
    "    lst1=[]\n",
    "    lst2=[]\n",
    "    for train_example_number in range(len(X)):\n",
    "        cnt=0\n",
    "        for day in range(28):\n",
    "            for hour in range(24):\n",
    "                days_data = X[train_example_number]\n",
    "                \n",
    "                aug_data = np.concatenate((days_data,np.array([day]),np.array([hour])),axis=0)\n",
    "                lst1.append(aug_data)\n",
    "                lst2.append(y[train_example_number][cnt])\n",
    "                cnt+=1\n",
    "    return np.array(lst1),np.array(lst2)\n",
    "            "
   ]
  },
  {
   "cell_type": "code",
   "execution_count": 33,
   "metadata": {
    "collapsed": false
   },
   "outputs": [
    {
     "name": "stdout",
     "output_type": "stream",
     "text": [
      "(57792, 30)\n"
     ]
    }
   ],
   "source": [
    "final_x,final_y = transformer(train_x,train_y)\n",
    "final_v_x,finalv_y = transformer(v_x,v_y)\n",
    "final_test_x,final_test_y = transformer(test_x,test_y)\n",
    "print (final_x.shape)"
   ]
  },
  {
   "cell_type": "code",
   "execution_count": 34,
   "metadata": {
    "collapsed": false
   },
   "outputs": [
    {
     "data": {
      "text/plain": [
       "'\\nprint (\"Error is \"+str(relative_cost(model.predict(final_v_x),finalv__y+1)))\\nprint (\"Input shape is \",final_x.shape,\\' Output shape is \\',final_y.shape)\\nerrors1 = model.predict(final_test_x)-final_test_y\\nnp.savetxt(\\'results/simple_lin_reg_with_date_day.txt\\',errors1.flatten())'"
      ]
     },
     "execution_count": 34,
     "metadata": {},
     "output_type": "execute_result"
    }
   ],
   "source": [
    "model = None\n",
    "model = LinearRegression()\n",
    "model.fit(final_x,final_y)\n",
    "'''\n",
    "print (\"Error is \"+str(relative_cost(model.predict(final_v_x),finalv__y+1)))\n",
    "print (\"Input shape is \",final_x.shape,' Output shape is ',final_y.shape)\n",
    "errors1 = model.predict(final_test_x)-final_test_y\n",
    "np.savetxt('results/simple_lin_reg_with_date_day.txt',errors1.flatten())'''"
   ]
  },
  {
   "cell_type": "code",
   "execution_count": 35,
   "metadata": {
    "collapsed": false
   },
   "outputs": [],
   "source": [
    "pred_train = model.predict(final_x)\n",
    "pred_v = model.predict(final_v_x)\n",
    "pred_test = model.predict(final_test_x)"
   ]
  },
  {
   "cell_type": "code",
   "execution_count": 36,
   "metadata": {
    "collapsed": true
   },
   "outputs": [],
   "source": [
    "train_cost = relative_cost(final_y,pred_train)\n",
    "v_cost = relative_cost(finalv_y,pred_v)\n",
    "test_cost = relative_cost(final_test_y,pred_test)"
   ]
  },
  {
   "cell_type": "code",
   "execution_count": 37,
   "metadata": {
    "collapsed": false
   },
   "outputs": [
    {
     "data": {
      "text/plain": [
       "(1.1423543485050982, 0.9793725849780432, 1.2012992873287438)"
      ]
     },
     "execution_count": 37,
     "metadata": {},
     "output_type": "execute_result"
    }
   ],
   "source": [
    "train_cost,test_cost,v_cost"
   ]
  },
  {
   "cell_type": "code",
   "execution_count": 38,
   "metadata": {
    "collapsed": true
   },
   "outputs": [],
   "source": [
    "train_cost = abs_error(final_y,pred_train)\n",
    "v_cost = abs_error(finalv_y,pred_v)\n",
    "test_cost = abs_error(final_test_y,pred_test)"
   ]
  },
  {
   "cell_type": "code",
   "execution_count": 39,
   "metadata": {
    "collapsed": false
   },
   "outputs": [
    {
     "data": {
      "text/plain": [
       "(426.4133534147922, 417.05151378956043, 456.90617561886535)"
      ]
     },
     "execution_count": 39,
     "metadata": {},
     "output_type": "execute_result"
    }
   ],
   "source": [
    "train_cost,test_cost,v_cost"
   ]
  },
  {
   "cell_type": "markdown",
   "metadata": {},
   "source": [
    "# Temperature Included"
   ]
  },
  {
   "cell_type": "markdown",
   "metadata": {},
   "source": [
    "Input Parameters are Bills of Thirty Days, Temperature of that Day(Min,Max,Avg), Day Number and Hour Number\n",
    "Output is the bill of the house on that Day of that hour"
   ]
  },
  {
   "cell_type": "code",
   "execution_count": 22,
   "metadata": {
    "collapsed": false
   },
   "outputs": [
    {
     "name": "stderr",
     "output_type": "stream",
     "text": [
      "/home/rithwik/anaconda/lib/python2.7/site-packages/ipykernel/__main__.py:1: FutureWarning: Method .as_matrix will be removed in a future version. Use .values instead.\n",
      "  if __name__ == '__main__':\n"
     ]
    },
    {
     "data": {
      "text/plain": [
       "array([80, 88, 71])"
      ]
     },
     "execution_count": 22,
     "metadata": {},
     "output_type": "execute_result"
    }
   ],
   "source": [
    "temp_matrix = temp_data.as_matrix()[:,1:]\n",
    "temp_matrix[0]"
   ]
  },
  {
   "cell_type": "code",
   "execution_count": null,
   "metadata": {
    "collapsed": false
   },
   "outputs": [],
   "source": []
  },
  {
   "cell_type": "code",
   "execution_count": 35,
   "metadata": {
    "collapsed": false
   },
   "outputs": [],
   "source": [
    "final_x,final_y = transformer(train_x,train_y,temp_matrix)\n",
    "final_test_x,final_test_y = transformer(test_x,test_y,temp_matrix)\n",
    "final_v_x,final_v_y = transformer(v_x,v_y,temp_matrix)"
   ]
  },
  {
   "cell_type": "code",
   "execution_count": 36,
   "metadata": {
    "collapsed": false
   },
   "outputs": [
    {
     "data": {
      "text/plain": [
       "array([18014.8671875 , 20123.55078125, 20119.16601562, 12399.73339844,\n",
       "       11603.09960938, 13713.6171875 , 15873.1171875 , 31440.46679688,\n",
       "       17168.16601562, 14865.59960938, 16862.93359375, 16447.59960938,\n",
       "       15743.56640625, 29077.1328125 , 15671.91699219, 15939.75      ,\n",
       "       15110.61621094, 20880.53320312, 20445.96679688, 12451.20019531,\n",
       "       17529.06640625, 14871.96679688, 16709.56640625, 19230.19921875,\n",
       "       15375.03320312, 15327.43359375, 15329.54980469, 18790.75      ,\n",
       "        9231.79980469, 17706.515625  ,    80.        ,    88.        ,\n",
       "          71.        ,     0.        ,     0.        ])"
      ]
     },
     "execution_count": 36,
     "metadata": {},
     "output_type": "execute_result"
    }
   ],
   "source": [
    "model = LinearRegression()\n",
    "model.fit(final_x,final_y)\n",
    "final_x[0]"
   ]
  },
  {
   "cell_type": "code",
   "execution_count": 37,
   "metadata": {
    "collapsed": false
   },
   "outputs": [
    {
     "data": {
      "text/plain": [
       "array([ 1.38888899e-03,  1.38888882e-03,  1.38888916e-03,  1.38888888e-03,\n",
       "        1.38888895e-03,  1.38888877e-03,  1.38888878e-03,  1.38888877e-03,\n",
       "        1.38888924e-03,  1.38888910e-03,  1.38888850e-03,  1.38888872e-03,\n",
       "        1.38888889e-03,  1.38888895e-03,  1.38888898e-03,  1.38888889e-03,\n",
       "        1.38888888e-03,  1.38888868e-03,  1.38888899e-03,  1.38888865e-03,\n",
       "        1.38888922e-03,  1.38888867e-03,  1.38888892e-03,  1.38888907e-03,\n",
       "        1.38888906e-03,  1.38888856e-03,  1.38888924e-03,  1.38888881e-03,\n",
       "        1.38888882e-03,  1.38888877e-03,  1.68329864e+00,  1.19154732e+01,\n",
       "        1.07288709e+01, -1.48092504e+00,  2.02476358e-01])"
      ]
     },
     "execution_count": 37,
     "metadata": {},
     "output_type": "execute_result"
    }
   ],
   "source": [
    "model.coef_\n"
   ]
  },
  {
   "cell_type": "code",
   "execution_count": 38,
   "metadata": {
    "collapsed": false
   },
   "outputs": [],
   "source": [
    "preds = model.predict(final_test_x)\n",
    "errors1 = model.predict(final_test_x)-final_test_y\n",
    "np.savetxt('results/simple_lin_reg_with_date_day_temp.txt',errors1.flatten())\n"
   ]
  },
  {
   "cell_type": "code",
   "execution_count": 41,
   "metadata": {
    "collapsed": true
   },
   "outputs": [],
   "source": [
    "preds =  model.predict(final_v_x)"
   ]
  },
  {
   "cell_type": "code",
   "execution_count": 42,
   "metadata": {
    "collapsed": false
   },
   "outputs": [
    {
     "name": "stdout",
     "output_type": "stream",
     "text": [
      "('After the New Params cost is ', 0.9039316995193615)\n"
     ]
    }
   ],
   "source": [
    "print (\"After the New Params cost is \",relative_cost(preds,(final_v_y+1)))\n"
   ]
  },
  {
   "cell_type": "markdown",
   "metadata": {},
   "source": [
    "# Hourly Prediction Model\n"
   ]
  },
  {
   "cell_type": "code",
   "execution_count": 43,
   "metadata": {
    "collapsed": false
   },
   "outputs": [],
   "source": [
    "models=[]\n",
    "for i in range(24):\n",
    "    indices = np.where(final_x[:,-1]==i,True,False)\n",
    "    data_x = final_x[indices]\n",
    "    data_y = final_y[indices]\n",
    "    model = LinearRegression()\n",
    "    model.fit(data_x,data_y)\n",
    "    models.append(model)\n",
    "    \n",
    "    \n",
    "    "
   ]
  },
  {
   "cell_type": "code",
   "execution_count": 51,
   "metadata": {
    "collapsed": false
   },
   "outputs": [
    {
     "name": "stdout",
     "output_type": "stream",
     "text": [
      "0\n"
     ]
    },
    {
     "ename": "ValueError",
     "evalue": "Found array with 0 sample(s) (shape=(0, 30)) while a minimum of 1 is required.",
     "output_type": "error",
     "traceback": [
      "\u001b[0;31m-----------------------------------------------------------------------\u001b[0m",
      "\u001b[0;31mValueError\u001b[0m                            Traceback (most recent call last)",
      "\u001b[0;32m<ipython-input-51-48d123c4f2f3>\u001b[0m in \u001b[0;36m<module>\u001b[0;34m()\u001b[0m\n\u001b[1;32m      9\u001b[0m     \u001b[0;32mprint\u001b[0m \u001b[0;34m(\u001b[0m\u001b[0mlen\u001b[0m\u001b[0;34m(\u001b[0m\u001b[0mdata_x\u001b[0m\u001b[0;34m)\u001b[0m\u001b[0;34m)\u001b[0m\u001b[0;34m\u001b[0m\u001b[0m\n\u001b[1;32m     10\u001b[0m \u001b[0;34m\u001b[0m\u001b[0m\n\u001b[0;32m---> 11\u001b[0;31m     \u001b[0mpred\u001b[0m \u001b[0;34m=\u001b[0m \u001b[0mmodel\u001b[0m\u001b[0;34m.\u001b[0m\u001b[0mpredict\u001b[0m\u001b[0;34m(\u001b[0m\u001b[0mdata_x\u001b[0m\u001b[0;34m)\u001b[0m\u001b[0;34m\u001b[0m\u001b[0m\n\u001b[0m\u001b[1;32m     12\u001b[0m     \u001b[0mcurr_error\u001b[0m \u001b[0;34m=\u001b[0m \u001b[0mrelative_cost\u001b[0m\u001b[0;34m(\u001b[0m\u001b[0mpred\u001b[0m\u001b[0;34m,\u001b[0m\u001b[0;34m(\u001b[0m\u001b[0mdata_y\u001b[0m\u001b[0;34m+\u001b[0m\u001b[0;36m1\u001b[0m\u001b[0;34m)\u001b[0m\u001b[0;34m)\u001b[0m\u001b[0;34m\u001b[0m\u001b[0m\n\u001b[1;32m     13\u001b[0m     \u001b[0;32mfor\u001b[0m \u001b[0mj\u001b[0m \u001b[0;32min\u001b[0m \u001b[0mrange\u001b[0m\u001b[0;34m(\u001b[0m\u001b[0;36m30\u001b[0m\u001b[0;34m)\u001b[0m\u001b[0;34m:\u001b[0m\u001b[0;34m\u001b[0m\u001b[0m\n",
      "\u001b[0;32m/home/rithwik/anaconda/lib/python2.7/site-packages/sklearn/linear_model/base.pyc\u001b[0m in \u001b[0;36mpredict\u001b[0;34m(self, X)\u001b[0m\n\u001b[1;32m    266\u001b[0m             \u001b[0mReturns\u001b[0m \u001b[0mpredicted\u001b[0m \u001b[0mvalues\u001b[0m\u001b[0;34m.\u001b[0m\u001b[0;34m\u001b[0m\u001b[0m\n\u001b[1;32m    267\u001b[0m         \"\"\"\n\u001b[0;32m--> 268\u001b[0;31m         \u001b[0;32mreturn\u001b[0m \u001b[0mself\u001b[0m\u001b[0;34m.\u001b[0m\u001b[0m_decision_function\u001b[0m\u001b[0;34m(\u001b[0m\u001b[0mX\u001b[0m\u001b[0;34m)\u001b[0m\u001b[0;34m\u001b[0m\u001b[0m\n\u001b[0m\u001b[1;32m    269\u001b[0m \u001b[0;34m\u001b[0m\u001b[0m\n\u001b[1;32m    270\u001b[0m     \u001b[0m_preprocess_data\u001b[0m \u001b[0;34m=\u001b[0m \u001b[0mstaticmethod\u001b[0m\u001b[0;34m(\u001b[0m\u001b[0m_preprocess_data\u001b[0m\u001b[0;34m)\u001b[0m\u001b[0;34m\u001b[0m\u001b[0m\n",
      "\u001b[0;32m/home/rithwik/anaconda/lib/python2.7/site-packages/sklearn/linear_model/base.pyc\u001b[0m in \u001b[0;36m_decision_function\u001b[0;34m(self, X)\u001b[0m\n\u001b[1;32m    249\u001b[0m         \u001b[0mcheck_is_fitted\u001b[0m\u001b[0;34m(\u001b[0m\u001b[0mself\u001b[0m\u001b[0;34m,\u001b[0m \u001b[0;34m\"coef_\"\u001b[0m\u001b[0;34m)\u001b[0m\u001b[0;34m\u001b[0m\u001b[0m\n\u001b[1;32m    250\u001b[0m \u001b[0;34m\u001b[0m\u001b[0m\n\u001b[0;32m--> 251\u001b[0;31m         \u001b[0mX\u001b[0m \u001b[0;34m=\u001b[0m \u001b[0mcheck_array\u001b[0m\u001b[0;34m(\u001b[0m\u001b[0mX\u001b[0m\u001b[0;34m,\u001b[0m \u001b[0maccept_sparse\u001b[0m\u001b[0;34m=\u001b[0m\u001b[0;34m[\u001b[0m\u001b[0;34m'csr'\u001b[0m\u001b[0;34m,\u001b[0m \u001b[0;34m'csc'\u001b[0m\u001b[0;34m,\u001b[0m \u001b[0;34m'coo'\u001b[0m\u001b[0;34m]\u001b[0m\u001b[0;34m)\u001b[0m\u001b[0;34m\u001b[0m\u001b[0m\n\u001b[0m\u001b[1;32m    252\u001b[0m         return safe_sparse_dot(X, self.coef_.T,\n\u001b[1;32m    253\u001b[0m                                dense_output=True) + self.intercept_\n",
      "\u001b[0;32m/home/rithwik/anaconda/lib/python2.7/site-packages/sklearn/utils/validation.pyc\u001b[0m in \u001b[0;36mcheck_array\u001b[0;34m(array, accept_sparse, dtype, order, copy, force_all_finite, ensure_2d, allow_nd, ensure_min_samples, ensure_min_features, warn_on_dtype, estimator)\u001b[0m\n\u001b[1;32m    414\u001b[0m                              \u001b[0;34m\" minimum of %d is required%s.\"\u001b[0m\u001b[0;34m\u001b[0m\u001b[0m\n\u001b[1;32m    415\u001b[0m                              % (n_samples, shape_repr, ensure_min_samples,\n\u001b[0;32m--> 416\u001b[0;31m                                 context))\n\u001b[0m\u001b[1;32m    417\u001b[0m \u001b[0;34m\u001b[0m\u001b[0m\n\u001b[1;32m    418\u001b[0m     \u001b[0;32mif\u001b[0m \u001b[0mensure_min_features\u001b[0m \u001b[0;34m>\u001b[0m \u001b[0;36m0\u001b[0m \u001b[0;32mand\u001b[0m \u001b[0marray\u001b[0m\u001b[0;34m.\u001b[0m\u001b[0mndim\u001b[0m \u001b[0;34m==\u001b[0m \u001b[0;36m2\u001b[0m\u001b[0;34m:\u001b[0m\u001b[0;34m\u001b[0m\u001b[0m\n",
      "\u001b[0;31mValueError\u001b[0m: Found array with 0 sample(s) (shape=(0, 30)) while a minimum of 1 is required."
     ]
    }
   ],
   "source": [
    "errors = []\n",
    "arr_to_write=np.zeros((v_y.shape))\n",
    "\n",
    "for i in range(24):\n",
    "    indices = np.where(v_x[:,-1]==i,True,False)\n",
    "    data_x = v_x[indices]\n",
    "    data_y = v_y[indices]\n",
    "    model = models[i]\n",
    "    if len(data_x)>0:\n",
    "    \n",
    "    pred = model.predict(data_x)\n",
    "    curr_error = relative_cost(pred,(data_y+1))\n",
    "    for j in range(30):\n",
    "        arr_to_write[:,i+j*24] = pred[j::30]\n",
    "    \n",
    "    errors.append(curr_error)\n",
    "    \n"
   ]
  },
  {
   "cell_type": "code",
   "execution_count": 49,
   "metadata": {
    "collapsed": false
   },
   "outputs": [
    {
     "name": "stdout",
     "output_type": "stream",
     "text": [
      "('Relative Cost is', 0.875634804089325)\n"
     ]
    }
   ],
   "source": [
    "print (\"Relative Cost is\",np.mean(errors))"
   ]
  },
  {
   "cell_type": "code",
   "execution_count": 227,
   "metadata": {
    "collapsed": false
   },
   "outputs": [
    {
     "data": {
      "text/plain": [
       "((35,), (74880, 35))"
      ]
     },
     "execution_count": 227,
     "metadata": {},
     "output_type": "execute_result"
    }
   ],
   "source": [
    "model.coef_.shape,final_x.shape"
   ]
  },
  {
   "cell_type": "code",
   "execution_count": 228,
   "metadata": {
    "collapsed": false
   },
   "outputs": [
    {
     "data": {
      "text/plain": [
       "(25, 720)"
      ]
     },
     "execution_count": 228,
     "metadata": {},
     "output_type": "execute_result"
    }
   ],
   "source": [
    "np.array(arr_to_write).shape"
   ]
  },
  {
   "cell_type": "code",
   "execution_count": 229,
   "metadata": {
    "collapsed": false
   },
   "outputs": [
    {
     "data": {
      "text/plain": [
       "18000"
      ]
     },
     "execution_count": 229,
     "metadata": {},
     "output_type": "execute_result"
    }
   ],
   "source": [
    "24*750"
   ]
  },
  {
   "cell_type": "code",
   "execution_count": 230,
   "metadata": {
    "collapsed": false
   },
   "outputs": [
    {
     "data": {
      "text/plain": [
       "30"
      ]
     },
     "execution_count": 230,
     "metadata": {},
     "output_type": "execute_result"
    }
   ],
   "source": [
    "750/25"
   ]
  },
  {
   "cell_type": "code",
   "execution_count": 231,
   "metadata": {
    "collapsed": false
   },
   "outputs": [
    {
     "data": {
      "text/plain": [
       "(25, 30)"
      ]
     },
     "execution_count": 231,
     "metadata": {},
     "output_type": "execute_result"
    }
   ],
   "source": [
    "test_x.shape"
   ]
  },
  {
   "cell_type": "code",
   "execution_count": 232,
   "metadata": {
    "collapsed": false
   },
   "outputs": [
    {
     "data": {
      "text/plain": [
       "1.1243433318216676"
      ]
     },
     "execution_count": 232,
     "metadata": {},
     "output_type": "execute_result"
    }
   ],
   "source": [
    "relative_cost(arr_to_write,test_y+1)"
   ]
  },
  {
   "cell_type": "code",
   "execution_count": 233,
   "metadata": {
    "collapsed": false
   },
   "outputs": [
    {
     "data": {
      "text/plain": [
       "(25,)"
      ]
     },
     "execution_count": 233,
     "metadata": {},
     "output_type": "execute_result"
    }
   ],
   "source": [
    "pred[j::30].shape"
   ]
  },
  {
   "cell_type": "code",
   "execution_count": 234,
   "metadata": {
    "collapsed": false
   },
   "outputs": [
    {
     "data": {
      "text/plain": [
       "(25, 1)"
      ]
     },
     "execution_count": 234,
     "metadata": {},
     "output_type": "execute_result"
    }
   ],
   "source": [
    "arr_to_write[:,i+j*24:i+(j+1)*24].shape"
   ]
  },
  {
   "cell_type": "code",
   "execution_count": 235,
   "metadata": {
    "collapsed": false
   },
   "outputs": [
    {
     "data": {
      "text/plain": [
       "array([2568.67978802, 2284.28651822, 2504.45605084, 2471.63102531,\n",
       "       1803.15810444, 1289.96747976,  914.95202484,  859.56314339,\n",
       "        723.63915163,  816.63581349,  796.08591709,  887.50321814,\n",
       "       1078.82401751, 1568.57186348, 1388.37523415, 1460.9783394 ,\n",
       "       1807.64253583, 1834.09904186, 2113.75704247, 2106.21509755,\n",
       "       2185.84966254, 2423.87603583, 2630.0036633 , 2868.53922634,\n",
       "       2610.86352006, 2332.24502935, 2588.35379883, 2551.85768914,\n",
       "       1867.62688639, 1330.09496193,  973.29316511,  911.47950481,\n",
       "        755.10204118,  844.01561596,  829.11044001,  899.87366054,\n",
       "       1105.03552808, 1595.59303644, 1454.72530378, 1558.05302777,\n",
       "       1900.22897925, 1952.41095609, 2246.67476087, 2248.0952748 ,\n",
       "       2306.72808451, 2541.98956796, 2733.28677983, 2966.60045213,\n",
       "       2596.39070779, 2324.76118832, 2582.76561471, 2551.62314099,\n",
       "       1866.17762535, 1340.72954629,  980.98815008,  922.41014816,\n",
       "        770.5870861 ,  863.27146313,  843.59634824,  915.04626561,\n",
       "       1113.43451144, 1593.76896288, 1450.78910318, 1558.74149684,\n",
       "       1900.7816497 , 1946.30547937, 2229.05457659, 2222.13578737,\n",
       "       2284.06985504, 2524.15079778, 2716.03767375, 2941.70022893,\n",
       "       2605.04972946, 2323.82335258, 2579.76467111, 2545.59754621,\n",
       "       1865.89526591, 1330.60896414,  973.84169118,  916.02725655,\n",
       "        756.80379457,  847.35289371,  832.5143513 ,  901.88960908,\n",
       "       1108.5422798 , 1596.39303415, 1455.41917325, 1556.21302593,\n",
       "       1896.42554976, 1945.56147992, 2240.50939501, 2241.42694362,\n",
       "       2297.29678621, 2534.86355936, 2721.86401207, 2958.56929713,\n",
       "       2602.14283416, 2319.61251419, 2575.47010726, 2542.46747474,\n",
       "       1865.02945567, 1330.86596525,  974.11595421,  918.30113243,\n",
       "        757.65467127,  849.02153259,  834.21630694,  902.89758335,\n",
       "       1110.29565566, 1596.793033  , 1455.76610798, 1555.29302501,\n",
       "       1894.52383501, 1942.13674184, 2237.42671207, 2238.09277804,\n",
       "       2292.58113706, 2531.30055507, 2716.15262819, 2954.55371963,\n",
       "       2610.80185583, 2318.67467844, 2572.46916366, 2536.44187995,\n",
       "       1864.74709624, 1320.74538311,  966.96949532,  911.91824082,\n",
       "        743.87137973,  833.10296317,  823.13430999,  889.74092682,\n",
       "       1105.40342402, 1599.41710427, 1460.39617805, 1552.76455409,\n",
       "       1890.16773507, 1941.39274239, 2248.88153049, 2257.38393429,\n",
       "       2305.80806822, 2542.01331665, 2721.97896652, 2971.42278783,\n",
       "       2607.79694701, 2322.13946129, 2583.7183681 , 2548.19323372,\n",
       "       1874.2136285 , 1333.77184734,  979.93412478,  926.26599204,\n",
       "        760.29915362,  849.57056959,  834.45074991,  902.48183973,\n",
       "       1118.23413893, 1603.78256657, 1469.863488  , 1568.59687701,\n",
       "       1902.0014021 , 1949.45428425, 2249.30512181, 2264.96191673,\n",
       "       2310.78383385, 2543.34643874, 2733.6028345 , 2974.82959581,\n",
       "       2581.75821776, 2311.38261762, 2576.83656372, 2550.8542089 ,\n",
       "       1872.18091666, 1354.78401495,  995.04983168,  945.85340287,\n",
       "        790.41836678,  886.41362505,  861.72061072,  931.81907559,\n",
       "       1133.27872979, 1599.73442059, 1461.64415207, 1570.89381608,\n",
       "       1905.00845773, 1940.66806889, 2217.14743618, 2216.37710747,\n",
       "       2270.18302407, 2511.23190268, 2704.81600621, 2929.04472691,\n",
       "       2511.80190173, 2209.37908548, 2398.74461667, 2375.21962019,\n",
       "       1741.81282365, 1254.54488744,  864.34889637,  831.5287727 ,\n",
       "        700.77688132,  801.48552015,  775.20952663,  881.772852  ,\n",
       "       1072.82462123, 1551.34021605, 1338.55108767, 1370.76749659,\n",
       "       1709.22165626, 1699.13150347, 1971.13895326, 1967.8648999 ,\n",
       "       2050.16439333, 2292.86735728, 2504.19106593, 2762.64483424,\n",
       "       2581.75480041, 2238.92304347, 2430.31559139, 2385.39751055,\n",
       "       1765.64246481, 1216.20413263,  846.8751755 ,  807.06630635,\n",
       "        638.66092114,  723.78850542,  723.4325751 ,  815.74516166,\n",
       "       1049.50267115, 1571.73430169, 1382.31474404, 1394.47004213,\n",
       "       1726.54406829, 1749.68934267, 2086.07724417, 2126.06212444,\n",
       "       2177.02633612, 2401.24202785, 2592.4997932 , 2897.07808632,\n",
       "       2608.90832334, 2269.49177143, 2484.81590211, 2437.83859595,\n",
       "       1808.33304936, 1243.04145444,  885.86069002,  842.43517259,\n",
       "        659.9198064 ,  742.59792003,  746.01624226,  824.32811469,\n",
       "       1067.56147015, 1589.88174995, 1426.6637687 , 1458.87983407,\n",
       "       1787.63445899, 1827.42237279, 2173.66149547, 2219.53752074,\n",
       "       2256.04006771, 2478.79671451, 2659.45140959, 2961.11371101,\n",
       "       2582.86959409, 2258.73492776, 2477.93409773, 2440.49957113,\n",
       "       1806.30033752, 1264.05362206,  900.97639692,  862.02258342,\n",
       "        690.03901956,  779.44097549,  773.28610307,  853.66535055,\n",
       "       1082.60606102, 1585.83360397, 1418.44443277, 1461.17677313,\n",
       "       1790.64151462, 1818.63615744, 2141.50380984, 2170.95271148,\n",
       "       2215.43925794, 2446.68217845, 2630.66458131, 2915.32884212,\n",
       "       2541.89866925, 2222.91267968, 2426.11108776, 2400.49354264,\n",
       "       1772.15708579, 1259.0061662 ,  884.04611163,  852.98862373,\n",
       "        694.37733125,  792.91467554,  780.50062386,  867.4821584 ,\n",
       "       1078.42060125, 1568.94626983, 1379.10367664, 1414.05649192,\n",
       "       1748.41713575, 1757.78477804, 2060.50638284, 2063.05097325,\n",
       "       2123.28234301, 2369.11267053, 2548.21100104, 2828.09598666,\n",
       "       2563.15004878, 2219.13469455, 2427.07223371, 2459.73606027,\n",
       "       1808.01220219, 1294.00134891,  955.37591036,  922.53231622,\n",
       "        689.12415174,  829.43022749,  888.55985493,  860.33936788,\n",
       "       1031.06454179, 1560.13794427, 1391.44853582, 1476.60374608,\n",
       "       1876.86610349, 1977.49001513, 2348.05194431, 2098.61972774,\n",
       "       2170.76642408, 2566.06726239, 2443.03249324, 2782.42867204,\n",
       "       2573.07388115, 2277.50413032, 2532.52446867, 2511.16676008,\n",
       "       1856.3713533 , 1333.43597634,  976.85858455,  941.03989116,\n",
       "        766.16343824,  865.70792134,  851.23586335,  912.97732604,\n",
       "       1127.82941426, 1600.79302152, 1459.23545531, 1546.09301579,\n",
       "       1875.50668753, 1907.88936101, 2206.59988274, 2204.75112217,\n",
       "       2245.42464557, 2495.67051209, 2659.03878942, 2914.39794465,\n",
       "       2585.19719496, 2290.68307511, 2557.62734209, 2535.82226705,\n",
       "       1877.28374046, 1346.9831378 ,  996.48847333,  959.86126221,\n",
       "        777.21831922,  875.94694808,  863.37867475,  917.77278969,\n",
       "       1137.73550169, 1610.06674508, 1481.58343501, 1577.8379113 ,\n",
       "       1905.1010255 , 1945.04350703, 2248.85066692, 2249.82173753,\n",
       "       2282.57368679, 2532.66635327, 2689.65890568, 2944.40796824,\n",
       "       2582.29029966, 2286.47223672, 2553.33277823, 2532.69219558,\n",
       "       1876.41793022, 1347.24013891,  996.76273636,  962.13513809,\n",
       "        778.06919591,  877.61558696,  865.08063039,  918.78076396,\n",
       "       1139.48887755, 1610.46674393, 1481.93036974, 1576.91791037,\n",
       "       1903.19931076, 1941.61876895, 2245.76798398, 2246.48757195,\n",
       "       2277.85803764, 2529.10334897, 2683.9475218 , 2940.39239074,\n",
       "       2582.8476965 , 2296.37817886, 2577.1420314 , 2560.24322587,\n",
       "       1896.74686658, 1371.16488362, 1023.81334707,  989.61327662,\n",
       "        803.75824512,  905.44182199,  890.00739438,  937.7408584 ,\n",
       "       1156.04057248, 1617.51639507, 1499.99521411, 1610.27127587,\n",
       "       1935.24803392, 1976.09217633, 2273.48126682, 2268.93286547,\n",
       "       2297.06449855, 2551.82342427, 2703.02991586, 2949.51776864,\n",
       "       2564.91059209, 2274.7775573 , 2543.45003025, 2529.32757597,\n",
       "       1874.10285895, 1358.13172438, 1004.73198436,  975.33965731,\n",
       "        794.40511754,  898.540073  ,  881.26849426,  934.96134329,\n",
       "       1149.64123677, 1609.04266922, 1478.34110387, 1576.68637852,\n",
       "       1901.85026645, 1932.08855414, 2225.06511677, 2217.19391894,\n",
       "       2250.48415903, 2507.7015745 , 2660.98703184, 2911.47659005,\n",
       "       2558.44139113, 2264.12555962, 2526.59541767, 2510.39782798,\n",
       "       1862.37464461, 1347.490445  ,  990.92026615,  964.48314587,\n",
       "        785.99471891,  888.85008327,  869.36012583,  929.75013602,\n",
       "       1147.67363261, 1606.75847923, 1470.0905042 , 1558.24533502,\n",
       "       1879.73349556, 1902.25195053, 2194.69274232, 2198.99244227,\n",
       "       2231.5378146 , 2482.75161698, 2647.81712189, 2901.74244263,\n",
       "       2570.66271846, 2269.62888317, 2536.1545228 , 2520.17190972,\n",
       "       1872.95468927, 1348.26814334,  997.8597885 ,  971.23064158,\n",
       "        781.4727027 ,  884.29014246,  871.88845296,  922.81266103,\n",
       "       1146.50238099, 1612.06673934, 1483.31810867, 1573.23790668,\n",
       "       1895.59245176, 1927.91981661, 2233.43725225, 2233.1509096 ,\n",
       "       2258.99544104, 2514.85133178, 2661.10198629, 2924.33008075,\n",
       "       2541.06168355, 2252.4308802 , 2516.7126697 , 2507.03320837,\n",
       "       1860.05957334, 1358.38203047,  998.88951415,  977.6876651 ,\n",
       "        802.33064053,  909.77456931,  885.5479897 ,  945.93071536,\n",
       "       1157.82599183, 1605.33440452, 1466.50123833, 1558.01380317,\n",
       "       1878.38445126, 1892.72173573, 2173.98987511, 2169.69878926,\n",
       "       2204.16393599, 2461.34984251, 2624.85663193, 2872.82664193,\n",
       "       2497.70149361, 2171.09013388, 2369.31178019, 2356.28867478,\n",
       "       1752.05312852, 1261.05548005,  880.12348265,  871.25376263,\n",
       "        708.25899113,  815.82964398,  796.69380878,  885.50735035,\n",
       "       1098.87898734, 1568.0379971 , 1369.69235423, 1388.94391012,\n",
       "       1711.63931732, 1694.44479304, 1987.85236065, 1992.21668447,\n",
       "       2043.95257593, 2297.81990846, 2472.10091398, 2761.33699605,\n",
       "       2573.50794953, 2260.26937065, 2524.56445148, 2507.886172  ,\n",
       "       1870.94070936, 1338.66156341,  991.26185567,  969.39550172,\n",
       "        769.39116456,  871.70885079,  864.2103673 ,  911.67195304,\n",
       "       1145.11690106, 1615.49080832, 1488.64204821, 1568.86943393,\n",
       "       1887.43292233, 1920.326341  , 2238.72670479, 2245.77373468,\n",
       "       2262.79107391, 2518.43808477, 2655.50555686, 2933.16799395,\n",
       "       2510.38220426, 2194.17502081, 2418.22390678, 2408.49521203,\n",
       "       1793.29445204, 1298.52738623,  926.80398215,  917.55327222,\n",
       "        745.00292132,  853.89490576,  833.76338417,  909.26290844,\n",
       "       1125.3367697 , 1584.3613718 , 1410.1051783 , 1454.04217113,\n",
       "       1773.28237846, 1766.07234645, 2057.81642766, 2059.73259334,\n",
       "       2100.30807806, 2357.53582494, 2521.8034243 , 2800.47239755,\n",
       "       2496.0074055 , 2179.01555854, 2397.09195436, 2393.37923866,\n",
       "       1781.5128485 , 1296.39250747,  921.80860068,  916.41004022,\n",
       "        744.91106906,  858.35178538,  838.63480813,  912.70257487,\n",
       "       1122.65841401, 1578.57183479, 1397.04860247, 1437.97831635,\n",
       "       1760.09966713, 1748.48058979, 2036.68996912, 2022.86095789,\n",
       "       2067.95843382, 2334.80092838, 2487.21906636, 2768.14978888,\n",
       "       2538.09312402, 2234.64969091, 2496.53347066, 2488.48732772,\n",
       "       1856.31397295, 1349.28945276,  992.84010738,  980.40027698,\n",
       "        791.95085579,  900.5305554 ,  881.27381532,  936.80595591,\n",
       "       1159.94726363, 1609.5584712 , 1472.51904733, 1551.80532857,\n",
       "       1866.42149233, 1878.27878395, 2173.11396179, 2175.65328317,\n",
       "       2198.52827056, 2457.8105869 , 2607.83743475, 2873.63340014,\n",
       "       2568.80895261, 2271.65957817, 2563.59383009, 2556.72808964,\n",
       "       1909.8669616 , 1387.02505506, 1045.91160316, 1028.89953053,\n",
       "        822.47101637,  930.69859861,  917.46780656,  951.60809047,\n",
       "       1181.72704265, 1630.3901083 , 1525.4656064 , 1633.73616308,\n",
       "       1947.72693916, 1982.4236796 , 2287.98790459, 2283.99599055,\n",
       "       2291.77269743, 2556.75222677, 2682.24757722, 2943.38759475,\n",
       "       2588.93587773, 2281.6703663 , 2577.43027506, 2562.68839676,\n",
       "       1920.50039546, 1379.29635278, 1044.03478876, 1025.93374679,\n",
       "        809.6304538 ,  911.99178845,  903.2163413 ,  936.01974178,\n",
       "       1181.26654256, 1639.20371544, 1543.49918703, 1646.35154602,\n",
       "       1954.65183581, 1995.84669873, 2317.48649861, 2336.82461666,\n",
       "       2332.63362368, 2586.63688062, 2716.9468896 , 2988.56369413,\n",
       "       2601.15720507, 2287.17368985, 2586.98938018, 2572.4624785 ,\n",
       "       1931.08044012, 1380.07405112, 1050.97431111, 1032.6812425 ,\n",
       "        805.10843759,  907.43184764,  905.74466843,  929.08226679,\n",
       "       1180.09529093, 1644.51197554, 1556.72679151, 1661.34411768,\n",
       "       1970.51079201, 2021.51456481, 2356.23100853, 2370.98308399,\n",
       "       2360.09125013, 2618.73659541, 2730.23175401, 3011.15133225])"
      ]
     },
     "execution_count": 235,
     "metadata": {},
     "output_type": "execute_result"
    }
   ],
   "source": [
    "arr_to_write[0]"
   ]
  },
  {
   "cell_type": "code",
   "execution_count": null,
   "metadata": {
    "collapsed": false
   },
   "outputs": [],
   "source": []
  },
  {
   "cell_type": "code",
   "execution_count": 236,
   "metadata": {
    "collapsed": false
   },
   "outputs": [],
   "source": [
    "np.savetxt('results/lin_reg_with_temp_hourly_model',(arr_to_write - test_y).flatten())"
   ]
  },
  {
   "cell_type": "code",
   "execution_count": 237,
   "metadata": {
    "collapsed": false
   },
   "outputs": [
    {
     "data": {
      "text/plain": [
       "array([3011.15133225,  946.53374253,  495.96826399, 1099.7132381 ,\n",
       "        822.14764403,  725.12898407, 1156.95562567,  855.70930198,\n",
       "       2614.55768314, 1065.12048582, 1436.08926893, 1281.61091434,\n",
       "       1210.82774839, 1039.34746079,  965.38170038, 1846.71223547,\n",
       "        464.19144891, 1169.26210603,  891.74066523, 4185.37799903,\n",
       "       1063.83521892, 2702.40701217, 4152.36601128,  869.16285419,\n",
       "        358.21026002])"
      ]
     },
     "execution_count": 237,
     "metadata": {},
     "output_type": "execute_result"
    }
   ],
   "source": [
    "pred[j::30]"
   ]
  },
  {
   "cell_type": "code",
   "execution_count": 22,
   "metadata": {
    "collapsed": false
   },
   "outputs": [
    {
     "data": {
      "text/plain": [
       "(74880, 35)"
      ]
     },
     "execution_count": 22,
     "metadata": {},
     "output_type": "execute_result"
    }
   ],
   "source": [
    "final_x.shape"
   ]
  },
  {
   "cell_type": "code",
   "execution_count": 24,
   "metadata": {
    "collapsed": false
   },
   "outputs": [
    {
     "data": {
      "text/plain": [
       "(3120, 35)"
      ]
     },
     "execution_count": 24,
     "metadata": {},
     "output_type": "execute_result"
    }
   ],
   "source": [
    "data_x.shape"
   ]
  },
  {
   "cell_type": "code",
   "execution_count": null,
   "metadata": {
    "collapsed": true
   },
   "outputs": [],
   "source": []
  }
 ],
 "metadata": {
  "anaconda-cloud": {},
  "kernelspec": {
   "display_name": "Python [conda env:anaconda]",
   "language": "python",
   "name": "conda-env-anaconda-py"
  },
  "language_info": {
   "codemirror_mode": {
    "name": "ipython",
    "version": 2
   },
   "file_extension": ".py",
   "mimetype": "text/x-python",
   "name": "python",
   "nbconvert_exporter": "python",
   "pygments_lexer": "ipython2",
   "version": "2.7.15"
  }
 },
 "nbformat": 4,
 "nbformat_minor": 1
}
