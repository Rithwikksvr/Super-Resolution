{
 "cells": [
  {
   "cell_type": "code",
   "execution_count": 65,
   "metadata": {
    "collapsed": false
   },
   "outputs": [],
   "source": [
    "import numpy as np\n",
    "import cv2\n",
    "import numpy\n",
    "import math\n",
    "import os\n",
    "import sklearn.linear_model\n",
    "import sklearn.datasets\n",
    "import matplotlib.pyplot as plt\n",
    "import autograd.numpy as np\n",
    "from autograd import grad\n",
    "import time\n",
    "import threading\n",
    "#from Data_File import Data\n",
    "import Data_File\n",
    "plt.close('all')"
   ]
  },
  {
   "cell_type": "code",
   "execution_count": 72,
   "metadata": {
    "collapsed": false
   },
   "outputs": [],
   "source": [
    "train_x,train_y = Data_File.Data('faces')\n",
    "test_x,test_y = Data_File.Data('test')\n",
    "\n",
    "(h,w) = train_y[0].shape\n",
    "\n",
    "A = np.random.random((h,h//2))/10\n",
    "B = np.random.random((w//2,w))/10\n",
    "\n"
   ]
  },
  {
   "cell_type": "code",
   "execution_count": 91,
   "metadata": {
    "collapsed": false
   },
   "outputs": [],
   "source": [
    "def psnr(img1, img2):\n",
    "    mse = numpy.mean( (img1 - img2) ** 2 )\n",
    "    if mse == 0:\n",
    "        return 100\n",
    "    PIXEL_MAX = 255.0\n",
    "    return 20 * math.log10(PIXEL_MAX / math.sqrt(mse))\n",
    "\n",
    "def mse(img1,img2):\n",
    "    return np.mean(np.square(img1 - img2))\n",
    "\n",
    "def cost2(A,B,X,y):\n",
    "    total_error = 0\n",
    "    ans = np.random.random((len(X),1))\n",
    "    index=0\n",
    "    objs=[]\n",
    "    for i in range(len(X)):\n",
    "        thd_obj = threading.Thread(target=pred_and_cost, args=(X[i],y[i],ans,index,))\n",
    "        thd_obj.start()\n",
    "        objs.append(thd_obj)\n",
    "        \n",
    "        index+=1\n",
    "        \n",
    "        \n",
    "    for i in objs:\n",
    "        i.join()\n",
    "            \n",
    "    return ans.mean()\n",
    "\n",
    "\n",
    "def pred_and_cost(img,y,results,index):\n",
    "    x1 = np.matmul(A,img)\n",
    "    x2 = np.matmul(x1,B)\n",
    "    results[index] = mse(x2,y)\n",
    "    #print (\"Image \"+str(index) + ' is done')\n",
    "    \n",
    "def pred(img):\n",
    "    x1 = np.matmul(A,img)\n",
    "    x2 = np.matmul(x1,B)\n",
    "    \n",
    "    return x2\n",
    "\n",
    "\n",
    "\n",
    "def org_cost(X,y):\n",
    "    s = 0\n",
    "    for i in range(len(X)):\n",
    "        ans = pred(X[i])\n",
    "        s = s + mse(ans,y[i])\n",
    "    return s/len(X)"
   ]
  },
  {
   "cell_type": "code",
   "execution_count": 95,
   "metadata": {
    "collapsed": false
   },
   "outputs": [
    {
     "data": {
      "text/plain": [
       "array([[ 0.03921569,  0.05490196,  0.01568627, ...,  0.43137255,\n",
       "         0.42745098,  0.42352941],\n",
       "       [ 0.03921569,  0.03529412,  0.01568627, ...,  0.43137255,\n",
       "         0.41176471,  0.42352941],\n",
       "       [ 0.04313725,  0.04313725,  0.01960784, ...,  0.40784314,\n",
       "         0.41176471,  0.40784314],\n",
       "       ..., \n",
       "       [ 0.36862745,  0.51372549,  0.02745098, ...,  0.41176471,\n",
       "         0.38823529,  0.40784314],\n",
       "       [ 0.11764706,  0.21176471,  0.02745098, ...,  0.40392157,\n",
       "         0.39607843,  0.40392157],\n",
       "       [ 0.40392157,  0.0745098 ,  0.02352941, ...,  0.4       ,\n",
       "         0.39215686,  0.40784314]])"
      ]
     },
     "execution_count": 95,
     "metadata": {},
     "output_type": "execute_result"
    }
   ],
   "source": [
    "train_x[0]"
   ]
  },
  {
   "cell_type": "code",
   "execution_count": 92,
   "metadata": {
    "collapsed": true
   },
   "outputs": [],
   "source": [
    "trainer = grad(cost,argnum=[0,1])\n",
    "alpha = .001\n",
    "iterations = 10"
   ]
  },
  {
   "cell_type": "code",
   "execution_count": 94,
   "metadata": {
    "collapsed": false
   },
   "outputs": [
    {
     "name": "stdout",
     "output_type": "stream",
     "text": [
      "[[ 0.  0.  0. ...,  0.  0.  0.]\n",
      " [ 0.  0.  0. ...,  0.  0.  0.]\n",
      " [ 0.  0.  0. ...,  0.  0.  0.]\n",
      " ..., \n",
      " [ 0.  0.  0. ...,  0.  0.  0.]\n",
      " [ 0.  0.  0. ...,  0.  0.  0.]\n",
      " [ 0.  0.  0. ...,  0.  0.  0.]]\n",
      "Cost at 0 th Epoch is 99.7999715308 Time Elapsed is 0.332067966461\n",
      "[[ 0.  0.  0. ...,  0.  0.  0.]\n",
      " [ 0.  0.  0. ...,  0.  0.  0.]\n",
      " [ 0.  0.  0. ...,  0.  0.  0.]\n",
      " ..., \n",
      " [ 0.  0.  0. ...,  0.  0.  0.]\n",
      " [ 0.  0.  0. ...,  0.  0.  0.]\n",
      " [ 0.  0.  0. ...,  0.  0.  0.]]\n",
      "Cost at 1 th Epoch is 99.7999715308 Time Elapsed is 0.515967845917\n",
      "[[ 0.  0.  0. ...,  0.  0.  0.]\n",
      " [ 0.  0.  0. ...,  0.  0.  0.]\n",
      " [ 0.  0.  0. ...,  0.  0.  0.]\n",
      " ..., \n",
      " [ 0.  0.  0. ...,  0.  0.  0.]\n",
      " [ 0.  0.  0. ...,  0.  0.  0.]\n",
      " [ 0.  0.  0. ...,  0.  0.  0.]]\n",
      "Cost at 2 th Epoch is 99.7999715308 Time Elapsed is 0.661116838455\n",
      "[[ 0.  0.  0. ...,  0.  0.  0.]\n",
      " [ 0.  0.  0. ...,  0.  0.  0.]\n",
      " [ 0.  0.  0. ...,  0.  0.  0.]\n",
      " ..., \n",
      " [ 0.  0.  0. ...,  0.  0.  0.]\n",
      " [ 0.  0.  0. ...,  0.  0.  0.]\n",
      " [ 0.  0.  0. ...,  0.  0.  0.]]\n",
      "Cost at 3 th Epoch is 99.7999715308 Time Elapsed is 0.854928016663\n",
      "[[ 0.  0.  0. ...,  0.  0.  0.]\n",
      " [ 0.  0.  0. ...,  0.  0.  0.]\n",
      " [ 0.  0.  0. ...,  0.  0.  0.]\n",
      " ..., \n",
      " [ 0.  0.  0. ...,  0.  0.  0.]\n",
      " [ 0.  0.  0. ...,  0.  0.  0.]\n",
      " [ 0.  0.  0. ...,  0.  0.  0.]]\n",
      "Cost at 4 th Epoch is 99.7999715308 Time Elapsed is 1.03897094727\n",
      "[[ 0.  0.  0. ...,  0.  0.  0.]\n",
      " [ 0.  0.  0. ...,  0.  0.  0.]\n",
      " [ 0.  0.  0. ...,  0.  0.  0.]\n",
      " ..., \n",
      " [ 0.  0.  0. ...,  0.  0.  0.]\n",
      " [ 0.  0.  0. ...,  0.  0.  0.]\n",
      " [ 0.  0.  0. ...,  0.  0.  0.]]\n",
      "Cost at 5 th Epoch is 99.7999715308 Time Elapsed is 1.19710898399\n",
      "[[ 0.  0.  0. ...,  0.  0.  0.]\n",
      " [ 0.  0.  0. ...,  0.  0.  0.]\n",
      " [ 0.  0.  0. ...,  0.  0.  0.]\n",
      " ..., \n",
      " [ 0.  0.  0. ...,  0.  0.  0.]\n",
      " [ 0.  0.  0. ...,  0.  0.  0.]\n",
      " [ 0.  0.  0. ...,  0.  0.  0.]]\n",
      "Cost at 6 th Epoch is 99.7999715308 Time Elapsed is 1.4081299305\n",
      "[[ 0.  0.  0. ...,  0.  0.  0.]\n",
      " [ 0.  0.  0. ...,  0.  0.  0.]\n",
      " [ 0.  0.  0. ...,  0.  0.  0.]\n",
      " ..., \n",
      " [ 0.  0.  0. ...,  0.  0.  0.]\n",
      " [ 0.  0.  0. ...,  0.  0.  0.]\n",
      " [ 0.  0.  0. ...,  0.  0.  0.]]\n",
      "Cost at 7 th Epoch is 99.7999715308 Time Elapsed is 1.63431787491\n",
      "[[ 0.  0.  0. ...,  0.  0.  0.]\n",
      " [ 0.  0.  0. ...,  0.  0.  0.]\n",
      " [ 0.  0.  0. ...,  0.  0.  0.]\n",
      " ..., \n",
      " [ 0.  0.  0. ...,  0.  0.  0.]\n",
      " [ 0.  0.  0. ...,  0.  0.  0.]\n",
      " [ 0.  0.  0. ...,  0.  0.  0.]]\n",
      "Cost at 8 th Epoch is 99.7999715308 Time Elapsed is 1.92509698868\n",
      "[[ 0.  0.  0. ...,  0.  0.  0.]\n",
      " [ 0.  0.  0. ...,  0.  0.  0.]\n",
      " [ 0.  0.  0. ...,  0.  0.  0.]\n",
      " ..., \n",
      " [ 0.  0.  0. ...,  0.  0.  0.]\n",
      " [ 0.  0.  0. ...,  0.  0.  0.]\n",
      " [ 0.  0.  0. ...,  0.  0.  0.]]\n",
      "Cost at 9 th Epoch is 99.7999715308 Time Elapsed is 2.39737486839\n"
     ]
    }
   ],
   "source": [
    "start = time.time()\n",
    "for i in range(iterations):\n",
    "    grad_A,grad_B = trainer(A,B,train_x,train_y)\n",
    "    A -=alpha*grad_A\n",
    "    B -=alpha*grad_B\n",
    "    \n",
    "    if i%1==0:\n",
    "        print (\"Cost at \"+ str(i)+\" th Epoch is \"+str(cost(A,B,train_x,train_y)) + ' Time Elapsed is '+str(time.time()-start))\n",
    "        \n",
    "        "
   ]
  },
  {
   "cell_type": "code",
   "execution_count": 47,
   "metadata": {
    "collapsed": false
   },
   "outputs": [
    {
     "ename": "NameError",
     "evalue": "name 'ans' is not defined",
     "output_type": "error",
     "traceback": [
      "\u001b[0;31m---------------------------------------------------------------------------\u001b[0m",
      "\u001b[0;31mNameError\u001b[0m                                 Traceback (most recent call last)",
      "\u001b[0;32m<ipython-input-47-ab8d4a5f9299>\u001b[0m in \u001b[0;36m<module>\u001b[0;34m()\u001b[0m\n\u001b[0;32m----> 1\u001b[0;31m \u001b[0mans\u001b[0m\u001b[0;34m\u001b[0m\u001b[0m\n\u001b[0m",
      "\u001b[0;31mNameError\u001b[0m: name 'ans' is not defined"
     ]
    }
   ],
   "source": []
  },
  {
   "cell_type": "code",
   "execution_count": 97,
   "metadata": {
    "collapsed": false
   },
   "outputs": [
    {
     "data": {
      "text/plain": [
       "99.799971530766385"
      ]
     },
     "execution_count": 97,
     "metadata": {},
     "output_type": "execute_result"
    }
   ],
   "source": [
    "org_cost(train_x,train_y)"
   ]
  },
  {
   "cell_type": "code",
   "execution_count": 96,
   "metadata": {
    "collapsed": false
   },
   "outputs": [
    {
     "data": {
      "text/plain": [
       "99.799971530766399"
      ]
     },
     "execution_count": 96,
     "metadata": {},
     "output_type": "execute_result"
    }
   ],
   "source": [
    "cost(A,B,train_x,train_y)"
   ]
  },
  {
   "cell_type": "code",
   "execution_count": null,
   "metadata": {
    "collapsed": true
   },
   "outputs": [],
   "source": []
  }
 ],
 "metadata": {
  "anaconda-cloud": {},
  "kernelspec": {
   "display_name": "Python [conda env:anaconda]",
   "language": "python",
   "name": "conda-env-anaconda-py"
  },
  "language_info": {
   "codemirror_mode": {
    "name": "ipython",
    "version": 2
   },
   "file_extension": ".py",
   "mimetype": "text/x-python",
   "name": "python",
   "nbconvert_exporter": "python",
   "pygments_lexer": "ipython2",
   "version": "2.7.12"
  }
 },
 "nbformat": 4,
 "nbformat_minor": 1
}
