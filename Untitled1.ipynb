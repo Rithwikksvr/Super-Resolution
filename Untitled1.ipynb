{
 "cells": [
  {
   "cell_type": "code",
   "execution_count": 1,
   "metadata": {
    "collapsed": false
   },
   "outputs": [],
   "source": [
    "import Data_File"
   ]
  },
  {
   "cell_type": "code",
   "execution_count": 2,
   "metadata": {
    "collapsed": false
   },
   "outputs": [
    {
     "name": "stdout",
     "output_type": "stream",
     "text": [
      "('Dataset/image_0001.jpg', 'faces/image_0001.jpg')\n",
      "('Dataset/image_0002.jpg', 'faces/image_0002.jpg')\n",
      "('Dataset/image_0003.jpg', 'faces/image_0003.jpg')\n",
      "('Dataset/image_0004.jpg', 'faces/image_0004.jpg')\n",
      "('Dataset/image_0005.jpg', 'faces/image_0005.jpg')\n",
      "('Dataset/image_0006.jpg', 'faces/image_0006.jpg')\n",
      "('Dataset/image_0007.jpg', 'faces/image_0007.jpg')\n",
      "('Dataset/image_0008.jpg', 'faces/image_0008.jpg')\n",
      "('Dataset/image_0009.jpg', 'faces/image_0009.jpg')\n",
      "('Dataset/image_0010.jpg', 'faces/image_0010.jpg')\n",
      "('Dataset/image_0011.jpg', 'faces/image_0011.jpg')\n",
      "('Dataset/image_0012.jpg', 'faces/image_0012.jpg')\n",
      "('Dataset/image_0013.jpg', 'faces/image_0013.jpg')\n",
      "('Dataset/image_0014.jpg', 'faces/image_0014.jpg')\n",
      "('Dataset/image_0015.jpg', 'faces/image_0015.jpg')\n",
      "('Dataset/image_0019.jpg', 'faces/image_0019.jpg')\n",
      "('Dataset/image_0020.jpg', 'faces/image_0020.jpg')\n",
      "('Dataset/image_0021.jpg', 'faces/image_0021.jpg')\n",
      "('Dataset/image_0022.jpg', 'faces/image_0022.jpg')\n",
      "('Dataset/image_0023.jpg', 'faces/image_0023.jpg')\n",
      "('Dataset/image_0024.jpg', 'faces/image_0024.jpg')\n",
      "('Dataset/image_0025.jpg', 'faces/image_0025.jpg')\n",
      "('Dataset/image_0026.jpg', 'faces/image_0026.jpg')\n",
      "('Dataset/image_0030.jpg', 'faces/image_0030.jpg')\n",
      "('Dataset/image_0031.jpg', 'faces/image_0031.jpg')\n",
      "('Dataset/image_0032.jpg', 'faces/image_0032.jpg')\n",
      "('Dataset/image_0033.jpg', 'faces/image_0033.jpg')\n",
      "('Dataset/image_0034.jpg', 'faces/image_0034.jpg')\n",
      "('Dataset/image_0035.jpg', 'faces/image_0035.jpg')\n",
      "('Dataset/image_0036.jpg', 'faces/image_0036.jpg')\n",
      "('Dataset/image_0037.jpg', 'faces/image_0037.jpg')\n",
      "('Dataset/image_0041.jpg', 'faces/image_0041.jpg')\n",
      "('Dataset/image_0042.jpg', 'faces/image_0042.jpg')\n",
      "('Dataset/image_0043.jpg', 'faces/image_0043.jpg')\n",
      "('Dataset/image_0044.jpg', 'faces/image_0044.jpg')\n",
      "('Dataset/image_0045.jpg', 'faces/image_0045.jpg')\n",
      "('Dataset/image_0046.jpg', 'faces/image_0046.jpg')\n",
      "('Dataset/image_0047.jpg', 'faces/image_0047.jpg')\n",
      "('Dataset/image_0048.jpg', 'faces/image_0048.jpg')\n",
      "('Dataset/image_0051.jpg', 'faces/image_0051.jpg')\n",
      "('Dataset/image_0052.jpg', 'faces/image_0052.jpg')\n",
      "('Dataset/image_0053.jpg', 'faces/image_0053.jpg')\n",
      "('Dataset/image_0054.jpg', 'faces/image_0054.jpg')\n",
      "('Dataset/image_0055.jpg', 'faces/image_0055.jpg')\n",
      "('Dataset/image_0056.jpg', 'faces/image_0056.jpg')\n",
      "('Dataset/image_0057.jpg', 'faces/image_0057.jpg')\n",
      "('Dataset/image_0059.jpg', 'faces/image_0059.jpg')\n",
      "('Dataset/image_0060.jpg', 'faces/image_0060.jpg')\n",
      "('Dataset/image_0061.jpg', 'faces/image_0061.jpg')\n",
      "('Dataset/image_0062.jpg', 'faces/image_0062.jpg')\n",
      "('Dataset/image_0063.jpg', 'faces/image_0063.jpg')\n",
      "('Dataset/image_0064.jpg', 'faces/image_0064.jpg')\n",
      "('Dataset/image_0065.jpg', 'faces/image_0065.jpg')\n",
      "('Dataset/image_0066.jpg', 'faces/image_0066.jpg')\n",
      "('Dataset/image_0067.jpg', 'faces/image_0067.jpg')\n",
      "('Dataset/image_0069.jpg', 'faces/image_0069.jpg')\n",
      "('Dataset/image_0070.jpg', 'faces/image_0070.jpg')\n",
      "('Dataset/image_0071.jpg', 'faces/image_0071.jpg')\n",
      "('Dataset/image_0072.jpg', 'faces/image_0072.jpg')\n",
      "('Dataset/image_0073.jpg', 'faces/image_0073.jpg')\n",
      "('Dataset/image_0074.jpg', 'faces/image_0074.jpg')\n",
      "('Dataset/image_0075.jpg', 'faces/image_0075.jpg')\n",
      "('Dataset/image_0076.jpg', 'faces/image_0076.jpg')\n",
      "('Dataset/image_0077.jpg', 'faces/image_0077.jpg')\n",
      "('Dataset/image_0078.jpg', 'faces/image_0078.jpg')\n",
      "('Dataset/image_0079.jpg', 'faces/image_0079.jpg')\n",
      "('Dataset/image_0080.jpg', 'faces/image_0080.jpg')\n",
      "('Dataset/image_0081.jpg', 'faces/image_0081.jpg')\n",
      "('Dataset/image_0082.jpg', 'faces/image_0082.jpg')\n",
      "('Dataset/image_0083.jpg', 'faces/image_0083.jpg')\n",
      "('Dataset/image_0084.jpg', 'faces/image_0084.jpg')\n",
      "('Dataset/image_0085.jpg', 'faces/image_0085.jpg')\n",
      "('Dataset/image_0086.jpg', 'faces/image_0086.jpg')\n",
      "('Dataset/image_0087.jpg', 'faces/image_0087.jpg')\n",
      "('Dataset/image_0088.jpg', 'faces/image_0088.jpg')\n",
      "('Dataset/image_0090.jpg', 'faces/image_0090.jpg')\n",
      "('Dataset/image_0091.jpg', 'faces/image_0091.jpg')\n",
      "('Dataset/image_0092.jpg', 'faces/image_0092.jpg')\n",
      "('Dataset/image_0093.jpg', 'faces/image_0093.jpg')\n",
      "('Dataset/image_0094.jpg', 'faces/image_0094.jpg')\n",
      "('Dataset/image_0095.jpg', 'faces/image_0095.jpg')\n",
      "('Dataset/image_0096.jpg', 'faces/image_0096.jpg')\n",
      "('Dataset/image_0097.jpg', 'faces/image_0097.jpg')\n",
      "('Dataset/image_0098.jpg', 'faces/image_0098.jpg')\n"
     ]
    }
   ],
   "source": [
    "Data_File.data_writer('Dataset',.5,.2,.3)"
   ]
  },
  {
   "cell_type": "code",
   "execution_count": null,
   "metadata": {
    "collapsed": true
   },
   "outputs": [],
   "source": []
  },
  {
   "cell_type": "code",
   "execution_count": null,
   "metadata": {
    "collapsed": true
   },
   "outputs": [],
   "source": []
  }
 ],
 "metadata": {
  "kernelspec": {
   "display_name": "Python [conda env:anaconda]",
   "language": "python",
   "name": "conda-env-anaconda-py"
  },
  "language_info": {
   "codemirror_mode": {
    "name": "ipython",
    "version": 2
   },
   "file_extension": ".py",
   "mimetype": "text/x-python",
   "name": "python",
   "nbconvert_exporter": "python",
   "pygments_lexer": "ipython2",
   "version": "2.7.12"
  }
 },
 "nbformat": 4,
 "nbformat_minor": 1
}
